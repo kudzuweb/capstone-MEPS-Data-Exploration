{
 "cells": [
  {
   "cell_type": "markdown",
   "id": "18eccf5e-d38f-4c44-967c-4e715559acd3",
   "metadata": {},
   "source": [
    "# Webscraping the data"
   ]
  },
  {
   "cell_type": "code",
   "execution_count": 2,
   "id": "35b8f9f1-b3ce-4755-a5f6-237cb6a2b750",
   "metadata": {},
   "outputs": [],
   "source": [
    "import requests\n",
    "import pandas as pd\n",
    "import requests\n",
    "from bs4 import BeautifulSoup\n",
    "from datetime import datetime as dt\n",
    "import urllib3\n",
    "import regex\n",
    "import re\n",
    "import os"
   ]
  },
  {
   "cell_type": "markdown",
   "id": "f635b891-6777-48b1-b1f3-b8491e286986",
   "metadata": {},
   "source": [
    "#### HTML strings\n",
    "I want the data and codebooks for full year consolidated data, population characteristics, employment variables, hospital inpatient stays, emergency room visits, & office-based medical provider visits. The pages look very similar, so once I have working code for the first set, I should be able to just edit it to get the rest. If I set it up as a function, I should be able to call the function on subsequent pages."
   ]
  },
  {
   "cell_type": "code",
   "execution_count": null,
   "id": "00abe101-e621-4609-93d7-0f5aa407ac9a",
   "metadata": {},
   "outputs": [],
   "source": [
    "#H233 = first dataset for full year consolidated data\n",
    "# H233 data page: <a href=\"download_data_files_detail.jsp?cboPufNumber=HC-233\">HC-233</a>\n",
    "# H233 data .xlsx: <a href=\"../data_files/pufs/h233/h233xlsx.zip\">ZIP</a>\n",
    "# H233 codebook: <a href=\"download_data_files_codebook.jsp?PUFId=H233\">HTML</a>\n",
    "    # H233 codebook first variable(ACCELI42): <a href=\"download_data_files_codebook.jsp?PUFId=H233&amp;varName=ACCELI42\">ACCELI42</a>\n",
    "    # H233 codebook first description(ACCELI42):<font class=\"smallBlack\" face=\"Arial\">PERS ELIGIBLE FOR ACCESS SUPPLEMENT-R4/2</font>\n",
    "        # value: <font class=\"smallBlack\" face=\"Arial\">-1 INAPPLICABLE</font>\n",
    "        # unweighted(frequency): <font class=\"smallBlack\" face=\"Arial\">423</font>\n",
    "        # weighted(frequency): <font class=\"smallBlack\" face=\"Arial\">3,683,511</font>\n"
   ]
  },
  {
   "cell_type": "markdown",
   "id": "93a37555-0000-45e1-ba44-7585ed13eaba",
   "metadata": {},
   "source": [
    "To get the data, I need to:\n",
    "- Request the first page\n",
    "- Get the html(BS)\n",
    "- Pull out the links to the pages for 2011-2021\n",
    "- drop them in a list\n",
    "- pass that list to a function that requests each page\n",
    "- Download the ZIP containing the xlsx\n",
    "\n",
    "To get the codebooks I need to proceed from there and:\n",
    "- request the codebook html page\n",
    "- get the html\n",
    "- pull out the name for each variable\n",
    "- drop them in a list\n",
    "- pull out the description for each variable\n",
    "- drop them in a list\n",
    "- merge those lists into a dataframe\n",
    "From there, I will need to:\n",
    "- get the links for each variable name\n",
    "- request each page\n",
    "- get the values from the value column\n",
    "- drop them in a list\n",
    "- get the values from the unweighted column\n",
    "- drop them in a list\n",
    "- get the values from the weighted value column\n",
    "- drop them in a list\n",
    "- merge those lists into a dataframe\n",
    "Finally:\n",
    "- join the variable dfs onto the var+description df in a way where the variable name and description are repeated for each value pertaining to them\n",
    "\n",
    "Then I will be able to use the codebooks to substitute the codes in the data for meaningful variable names with descriptions. Hopefully. Lol"
   ]
  },
  {
   "cell_type": "markdown",
   "id": "a8240d3a-31ad-4089-b778-c1071fcf53b6",
   "metadata": {},
   "source": [
    "#### 5/31- I have discovered that python cannot open these xlsx files for some reason. \n",
    "#### Going to alter the code to retrieve only sas files."
   ]
  },
  {
   "cell_type": "markdown",
   "id": "56feab73-dea2-4249-ae9e-169cf08131f4",
   "metadata": {},
   "source": [
    "### *Full Year Consolidated Data* (DUPLICATE OF POPULATION DATA; RETIRED)"
   ]
  },
  {
   "cell_type": "code",
   "execution_count": null,
   "id": "39d4ebdd-4861-457f-a8ab-e7ac86e5a09a",
   "metadata": {},
   "outputs": [],
   "source": [
    "# request main page & check response\n",
    "# URL = 'https://meps.ahrq.gov/mepsweb/data_stats/download_data_files_results.jsp?cboDataYear=All&cboDataTypeY=1%2CHousehold+Full+Year+File&buttonYearandDataType=Search&cboPufNumber=All&SearchTitle=Consolidated+Data'\n",
    "\n",
    "# response = requests.get(URL)\n",
    "\n",
    "# response"
   ]
  },
  {
   "cell_type": "code",
   "execution_count": null,
   "id": "a63f296a-914c-4552-b7c9-f0520c6960ee",
   "metadata": {},
   "outputs": [],
   "source": [
    "#convert to BeautifulSoup object & print readable HTML\n",
    "# soup = BeautifulSoup(response.text)\n",
    "\n",
    "# print(soup.prettify())"
   ]
  },
  {
   "cell_type": "code",
   "execution_count": null,
   "id": "f1bd6a56-46a5-49de-9bff-f3b35b8fea99",
   "metadata": {},
   "outputs": [],
   "source": [
    "#find the table row and print the link for each PUF\n",
    "\n",
    "# # link to data page for first year, H233: <a href=\"download_data_files_detail.jsp?cboPufNumber=HC-233\">HC-233</a>\n",
    "# # HTML path for the link: \n",
    "# # <table role= \"presentation\" | <tbody> | <tr> | <tdwidth = \"584\" | tablesummary = \"PUF Search Results\" | <tbody> |\n",
    "# # <tr id=\"Row1_neoTD3\" | <th scope = \"row\" | <div align=\"left\"> |\n",
    "# # <a href=\"download_data_files_detail.jsp?cboPufNumber=HC-233\">HC-233</a></div>\n",
    "\n",
    "# htmllinks = soup.findAll('tr', attrs = {'id' : \"Row1_neoTD3\"})\n",
    "# # print(htmllinks)\n",
    "\n",
    "# for href in htmllinks:\n",
    "#     link = href.find('a').get('href')\n",
    "#     print(link)\n",
    "\n",
    "# # for href in htmllinks:\n",
    "# #     re.search\n",
    "\n",
    "# # links = []\n",
    "\n",
    "# # for link in htmllinks:\n",
    "# #     links.append(link.text)\n",
    "\n",
    "# # print(links)\n",
    "# # type(links)"
   ]
  },
  {
   "cell_type": "code",
   "execution_count": 6,
   "id": "bad6a662-1bda-4476-81f1-c411bc5902ca",
   "metadata": {},
   "outputs": [],
   "source": [
    "# define function to retrieve the links from the page(collapse above)\n",
    "\n",
    "def getPUFLinks(URL):\n",
    "    response = requests.get(URL)\n",
    "    soup = BeautifulSoup(response.text)\n",
    "    PUFlinks = []\n",
    "\n",
    "    for link in soup.findAll('tr', attrs = {'id' : 'Row1_neoTD3'}):\n",
    "        href = link.find('a').get('href')\n",
    "        PUF = href.split('=')[1]\n",
    "        if PUF in PUFids:\n",
    "            PUFlinks.append(link.find('a').get('href'))\n",
    "\n",
    "    return PUFlinks"
   ]
  },
  {
   "cell_type": "code",
   "execution_count": null,
   "id": "cae9cbf7-69fe-46d4-b2f1-3acdff91ff4f",
   "metadata": {},
   "outputs": [],
   "source": [
    "#get the links for full consolidated data pages\n",
    "# PUFids = ['HC-233', 'HC-224', 'HC-216', 'HC-209', 'HC-201', 'HC-192', 'HC-181', 'HC-171', 'HC-163', 'HC-155']\n",
    "# URL = 'https://meps.ahrq.gov/mepsweb/data_stats/download_data_files_results.jsp?cboDataYear=All&cboDataTypeY=1%2CHousehold+Full+Year+File&buttonYearandDataType=Search&cboPufNumber=All&SearchTitle=Consolidated+Data'\n",
    "\n",
    "# fcd = getPUFLinks(URL)\n",
    "# print(fcd)"
   ]
  },
  {
   "cell_type": "code",
   "execution_count": null,
   "id": "42d0d7f9-ce5f-468a-92d2-08ca4c4b3dde",
   "metadata": {},
   "outputs": [],
   "source": [
    "#create list of links to get pages with .zips\n",
    "\n",
    "# PUFlinks = (['https://meps.ahrq.gov/mepsweb/data_stats/' + word for word in fcd])\n",
    "# print(PUFlinks)\n"
   ]
  },
  {
   "cell_type": "code",
   "execution_count": 9,
   "id": "f9bcb400-3c45-41ab-aadd-1ba7dc85b44d",
   "metadata": {},
   "outputs": [],
   "source": [
    "#define function to get soup of pages with .zips and get the .zip links\n",
    "\n",
    "# def getZIPLinks(URL):\n",
    "#     response = requests.get(URL)\n",
    "#     soup = BeautifulSoup(response.text)\n",
    "#     ZIPlinks = []\n",
    "    \n",
    "#     for link in soup.findAll('tr', attrs = {'id' : 'faqRoll_neoTD3'}):\n",
    "#         href = link.find('a').get('href')\n",
    "#         suffix = 'xlsx.zip'\n",
    "#         if href.endswith(suffix) == True:\n",
    "#             ZIPlinks.append(link.find('a').get('href'))\n",
    "\n",
    "#     return ZIPlinks"
   ]
  },
  {
   "cell_type": "code",
   "execution_count": null,
   "id": "9a44c9ee-9247-404e-b113-f31f7cd53fb0",
   "metadata": {},
   "outputs": [],
   "source": [
    "#get the links to the .zips\n",
    "\n",
    "# ZIPids= []\n",
    "\n",
    "# for link in PUFlinks:\n",
    "#     ZIPids.extend(getZIPLinks(link))\n",
    "# ZIPids"
   ]
  },
  {
   "cell_type": "markdown",
   "id": "600e1114-74f9-4e2b-b14c-3163a60e36ef",
   "metadata": {},
   "source": [
    "Oh no, there are only .xlsx for five of my ten chosen years. only ASCII and SAS after that. conundrum (T_T)\n",
    "\n",
    "##### Update: xlsx nonviable anyway. proceed with SAS!"
   ]
  },
  {
   "cell_type": "code",
   "execution_count": 13,
   "id": "7d86bfd2-f604-4d63-b52a-abe5ebe49774",
   "metadata": {},
   "outputs": [],
   "source": [
    "#alter function to retrieve SAS links\n",
    "def getSASLinks(URL):\n",
    "    response = requests.get(URL)\n",
    "    soup = BeautifulSoup(response.text)\n",
    "    SASlinks = []\n",
    "    \n",
    "    for link in soup.findAll('tr', attrs = {'id' : 'faqRoll_neoTD3'}):\n",
    "        href = link.find('a').get('href')\n",
    "        suffix = 'ssp.zip'\n",
    "        if href.endswith(suffix) == True:\n",
    "            SASlinks.append(link.find('a').get('href'))\n",
    "\n",
    "    return SASlinks"
   ]
  },
  {
   "cell_type": "markdown",
   "id": "5c1867d8-1a02-4e16-a08f-35e15f11ef2e",
   "metadata": {},
   "source": [
    "##### Update: some SAS files also nonviable. proceed with SASv9!"
   ]
  },
  {
   "cell_type": "code",
   "execution_count": 39,
   "id": "fa3d8d18-20c1-4707-8a53-11e53df1a9ee",
   "metadata": {},
   "outputs": [],
   "source": [
    "#alter function to retrieve SASv9 links\n",
    "def getV9Links(URL):\n",
    "    response = requests.get(URL)\n",
    "    soup = BeautifulSoup(response.text)\n",
    "    SASlinks = []\n",
    "    \n",
    "    for link in soup.findAll('tr', attrs = {'id' : 'faqRoll_neoTD3'}):\n",
    "        href = link.find('a').get('href')\n",
    "        suffix = 'v9.zip'\n",
    "        if href.endswith(suffix) == True:\n",
    "            SASlinks.append(link.find('a').get('href'))\n",
    "\n",
    "    return SASlinks"
   ]
  },
  {
   "cell_type": "code",
   "execution_count": null,
   "id": "68346b78-95e8-4722-bb4e-246b3648e1db",
   "metadata": {},
   "outputs": [],
   "source": [
    "#get the links to the SAS files\n",
    "\n",
    "# SASids = []\n",
    "\n",
    "# for link in PUFlinks:\n",
    "#     SASids.extend(getV9Links(link))\n",
    "# SASids"
   ]
  },
  {
   "cell_type": "code",
   "execution_count": null,
   "id": "0813b7aa-e6a9-49d4-ba8c-ef203b057f42",
   "metadata": {},
   "outputs": [],
   "source": [
    "#remove the ones i have xlsx for already\n",
    "\n",
    "# SASids = SASids[5:]\n",
    "# SASids"
   ]
  },
  {
   "cell_type": "code",
   "execution_count": null,
   "id": "71fef00c-7569-4865-b026-3244a7f920e1",
   "metadata": {},
   "outputs": [],
   "source": [
    "#put all ids in one list to run function\n",
    "# allids = ZIPids + SASids\n",
    "# allids"
   ]
  },
  {
   "cell_type": "code",
   "execution_count": 15,
   "id": "fe4add7e-79ae-4e2b-808c-6f508697b75a",
   "metadata": {},
   "outputs": [],
   "source": [
    "#define function to download the linked data files\n",
    "def dlFiles(list, dir):\n",
    "    try:\n",
    "        if not os.path.exists(dir):                                        #check if directory exists, if not, create it\n",
    "            os.makedirs(dir)\n",
    "        for url in list:\n",
    "            l= []                                                         #create empty list and use to append the url prefix to the file url\n",
    "            prefix = 'https://meps.ahrq.gov/mepsweb/data_stats/'\n",
    "            l.append(prefix)\n",
    "            l.append(url)\n",
    "            url = ''.join(l)\n",
    "            response = requests.get(url)                                  #get url response and check if successful\n",
    "            response.raise_for_status()\n",
    "            filename = os.path.join(dir, os.path.basename(url))           #create filename using string from url\n",
    "            with open(filename, 'wb') as file:                            #open file in binary mode to write to it\n",
    "                file.write(response.content)\n",
    "    except requests.exceptions.HTTPError as e:                            #errors to return if access fails\n",
    "        print(f'HTTP error occurred for {url}: {e}')\n",
    "    except requests.exceptions.RequestException as e:\n",
    "        print(f'Error occurred for {url}: {e}')\n",
    "         "
   ]
  },
  {
   "cell_type": "code",
   "execution_count": 44,
   "id": "373b4f76-c3ff-4f77-90d9-e9804ec607f8",
   "metadata": {},
   "outputs": [],
   "source": [
    "#call function to download files\n",
    "# list = SASids\n",
    "# dir = '../data/fcd'\n",
    "# dlFiles(list, dir)"
   ]
  },
  {
   "cell_type": "markdown",
   "id": "c3f77532-4e85-4b22-a157-78b10f236562",
   "metadata": {},
   "source": [
    "### *Full Year Population Characteristics*"
   ]
  },
  {
   "cell_type": "code",
   "execution_count": 45,
   "id": "22a79854-54aa-42f0-a7e1-4b236d0ba4bd",
   "metadata": {},
   "outputs": [],
   "source": [
    "URL = 'https://meps.ahrq.gov/mepsweb/data_stats/download_data_files_results.jsp?cboDataYear=All&cboDataTypeY=1%2CHousehold+Full+Year+File&buttonYearandDataType=Search&cboPufNumber=All&SearchTitle=Population+Characteristics'\n",
    "PUFids = ['HC-233', 'HC-224', 'HC-216', 'HC-209', 'HC-201', 'HC-192', 'HC-181', 'HC-171', 'HC-163', 'HC-155']"
   ]
  },
  {
   "cell_type": "code",
   "execution_count": 46,
   "id": "06b6c54e-9509-4fa7-90e5-cd6a148c68ec",
   "metadata": {},
   "outputs": [],
   "source": [
    "# get page link text\n",
    "fpc = getPUFLinks(URL)"
   ]
  },
  {
   "cell_type": "code",
   "execution_count": 47,
   "id": "e7f3afbb-bbbc-4da6-84a5-25635cc1d645",
   "metadata": {},
   "outputs": [
    {
     "name": "stdout",
     "output_type": "stream",
     "text": [
      "['https://meps.ahrq.gov/mepsweb/data_stats/download_data_files_detail.jsp?cboPufNumber=HC-233', 'https://meps.ahrq.gov/mepsweb/data_stats/download_data_files_detail.jsp?cboPufNumber=HC-224', 'https://meps.ahrq.gov/mepsweb/data_stats/download_data_files_detail.jsp?cboPufNumber=HC-216', 'https://meps.ahrq.gov/mepsweb/data_stats/download_data_files_detail.jsp?cboPufNumber=HC-209', 'https://meps.ahrq.gov/mepsweb/data_stats/download_data_files_detail.jsp?cboPufNumber=HC-201', 'https://meps.ahrq.gov/mepsweb/data_stats/download_data_files_detail.jsp?cboPufNumber=HC-192', 'https://meps.ahrq.gov/mepsweb/data_stats/download_data_files_detail.jsp?cboPufNumber=HC-181', 'https://meps.ahrq.gov/mepsweb/data_stats/download_data_files_detail.jsp?cboPufNumber=HC-171', 'https://meps.ahrq.gov/mepsweb/data_stats/download_data_files_detail.jsp?cboPufNumber=HC-163', 'https://meps.ahrq.gov/mepsweb/data_stats/download_data_files_detail.jsp?cboPufNumber=HC-155']\n"
     ]
    }
   ],
   "source": [
    "#turn link text into full links to pages\n",
    "\n",
    "PUFlinks = (['https://meps.ahrq.gov/mepsweb/data_stats/' + word for word in fpc])\n",
    "print(PUFlinks)"
   ]
  },
  {
   "cell_type": "code",
   "execution_count": null,
   "id": "c883b436-cb4f-4bfa-9e6b-9673aa95b0f9",
   "metadata": {},
   "outputs": [],
   "source": [
    "#get the links to the xlsx.zips\n",
    "\n",
    "# ZIPids= []\n",
    "\n",
    "# for link in PUFlinks:\n",
    "#     ZIPids.extend(getZIPLinks(link))\n",
    "# ZIPids"
   ]
  },
  {
   "cell_type": "code",
   "execution_count": 20,
   "id": "7ea9fa55-f32c-4f2b-83d9-c8c36b7671bc",
   "metadata": {},
   "outputs": [
    {
     "data": {
      "text/plain": [
       "['../data_files/pufs/h233/h233ssp.zip',\n",
       " '../data_files/pufs/h224/h224ssp.zip',\n",
       " '../data_files/pufs/h216/h216ssp.zip',\n",
       " '../data_files/pufs/h209/h209ssp.zip',\n",
       " '../data_files/pufs/h201/h201ssp.zip',\n",
       " '../data_files/pufs/h192ssp.zip',\n",
       " '../data_files/pufs/h181ssp.zip',\n",
       " '../data_files/pufs/h171ssp.zip',\n",
       " '../data_files/pufs/h163ssp.zip',\n",
       " '../data_files/pufs/h155ssp.zip']"
      ]
     },
     "execution_count": 20,
     "metadata": {},
     "output_type": "execute_result"
    }
   ],
   "source": [
    "#get the links to the SAS files\n",
    "\n",
    "SASids = []\n",
    "\n",
    "for link in PUFlinks:\n",
    "    SASids.extend(getSASLinks(link))\n",
    "SASids"
   ]
  },
  {
   "cell_type": "code",
   "execution_count": 48,
   "id": "c3e4d09b-add7-4b59-8fda-9ae4c2be4f7c",
   "metadata": {},
   "outputs": [
    {
     "data": {
      "text/plain": [
       "['../data_files/pufs/h233/h233v9.zip',\n",
       " '../data_files/pufs/h224/h224v9.zip',\n",
       " '../data_files/pufs/h216/h216v9.zip',\n",
       " '../data_files/pufs/h209/h209v9.zip',\n",
       " '../data_files/pufs/h201/h201v9.zip']"
      ]
     },
     "execution_count": 48,
     "metadata": {},
     "output_type": "execute_result"
    }
   ],
   "source": [
    "#get the links to the V9 files\n",
    "\n",
    "SASids = []\n",
    "\n",
    "for link in PUFlinks:\n",
    "    SASids.extend(getV9Links(link))\n",
    "SASids"
   ]
  },
  {
   "cell_type": "code",
   "execution_count": null,
   "id": "d37302f1-1ac4-4ce8-8094-414eb08f23c4",
   "metadata": {},
   "outputs": [],
   "source": [
    "#remove the ones i have xlsx for already\n",
    "\n",
    "# SASids = SASids[5:]\n",
    "# SASids"
   ]
  },
  {
   "cell_type": "code",
   "execution_count": null,
   "id": "283bb81e-9f09-4b72-abc0-e2d2ebe45bd5",
   "metadata": {},
   "outputs": [],
   "source": [
    "#put all ids in one list\n",
    "# allids = ZIPids + SASids\n",
    "# allids"
   ]
  },
  {
   "cell_type": "code",
   "execution_count": 49,
   "id": "6de944e6-b019-4a68-b16e-b085bc408b78",
   "metadata": {},
   "outputs": [],
   "source": [
    "#call function to download files\n",
    "list = SASids\n",
    "dir = '../data/fpc'\n",
    "dlFiles(list, dir)"
   ]
  },
  {
   "cell_type": "markdown",
   "id": "7f6f8c4a-3866-4d70-a7cc-27a0a175a135",
   "metadata": {},
   "source": [
    "### *Hospital Inpatient Stays*"
   ]
  },
  {
   "cell_type": "code",
   "execution_count": 65,
   "id": "f60d28a7-0a24-4907-aece-37494632dbd6",
   "metadata": {},
   "outputs": [],
   "source": [
    "URL = 'https://meps.ahrq.gov/mepsweb/data_stats/download_data_files_results.jsp?cboDataYear=All&cboDataTypeY=2%2CHousehold+Event+File&buttonYearandDataType=Search&cboPufNumber=All&SearchTitle=Hospital+Inpatient+Stays'\n",
    "PUFids = ['HC-229D', 'HC-220D', 'HC-213D', 'HC-206D', 'HC-197D', 'HC-188D', 'HC-178D', 'HC-168D', 'HC-160D', 'HC-152D']"
   ]
  },
  {
   "cell_type": "code",
   "execution_count": 66,
   "id": "16db1563-2da0-4a82-a963-ab9e551d954b",
   "metadata": {},
   "outputs": [],
   "source": [
    "# get page link text\n",
    "his = getPUFLinks(URL)"
   ]
  },
  {
   "cell_type": "code",
   "execution_count": 67,
   "id": "32c9d675-5e98-4ee9-9f6d-3ca8298d06d0",
   "metadata": {},
   "outputs": [
    {
     "name": "stdout",
     "output_type": "stream",
     "text": [
      "['https://meps.ahrq.gov/mepsweb/data_stats/download_data_files_detail.jsp?cboPufNumber=HC-229D', 'https://meps.ahrq.gov/mepsweb/data_stats/download_data_files_detail.jsp?cboPufNumber=HC-220D', 'https://meps.ahrq.gov/mepsweb/data_stats/download_data_files_detail.jsp?cboPufNumber=HC-213D', 'https://meps.ahrq.gov/mepsweb/data_stats/download_data_files_detail.jsp?cboPufNumber=HC-206D', 'https://meps.ahrq.gov/mepsweb/data_stats/download_data_files_detail.jsp?cboPufNumber=HC-197D', 'https://meps.ahrq.gov/mepsweb/data_stats/download_data_files_detail.jsp?cboPufNumber=HC-188D', 'https://meps.ahrq.gov/mepsweb/data_stats/download_data_files_detail.jsp?cboPufNumber=HC-178D', 'https://meps.ahrq.gov/mepsweb/data_stats/download_data_files_detail.jsp?cboPufNumber=HC-168D', 'https://meps.ahrq.gov/mepsweb/data_stats/download_data_files_detail.jsp?cboPufNumber=HC-160D', 'https://meps.ahrq.gov/mepsweb/data_stats/download_data_files_detail.jsp?cboPufNumber=HC-152D']\n"
     ]
    }
   ],
   "source": [
    "#turn link text into full links to pages\n",
    "\n",
    "PUFlinks = (['https://meps.ahrq.gov/mepsweb/data_stats/' + word for word in his])\n",
    "print(PUFlinks)"
   ]
  },
  {
   "cell_type": "code",
   "execution_count": 53,
   "id": "da5f327c-5b04-4786-a662-f67060a8cd61",
   "metadata": {},
   "outputs": [],
   "source": [
    "#get the links to the xlsx.zips\n",
    "\n",
    "# ZIPids= []\n",
    "\n",
    "# for link in PUFlinks:\n",
    "#     ZIPids.extend(getZIPLinks(link))\n",
    "# ZIPids"
   ]
  },
  {
   "cell_type": "code",
   "execution_count": 68,
   "id": "3873405d-3844-48ce-b998-09573ab7d5db",
   "metadata": {},
   "outputs": [
    {
     "data": {
      "text/plain": [
       "['../data_files/pufs/h229d/h229dssp.zip',\n",
       " '../data_files/pufs/h220d/h220dssp.zip',\n",
       " '../data_files/pufs/h213d/h213dssp.zip',\n",
       " '../data_files/pufs/h206d/h206dssp.zip',\n",
       " '../data_files/pufs/h197d/h197dssp.zip',\n",
       " '../data_files/pufs/h188dssp.zip',\n",
       " '../data_files/pufs/h178dssp.zip',\n",
       " '../data_files/pufs/h168dssp.zip',\n",
       " '../data_files/pufs/h160dssp.zip',\n",
       " '../data_files/pufs/h152dssp.zip']"
      ]
     },
     "execution_count": 68,
     "metadata": {},
     "output_type": "execute_result"
    }
   ],
   "source": [
    "#get the links to the SAS files\n",
    "\n",
    "SASids = []\n",
    "\n",
    "for link in PUFlinks:\n",
    "    SASids.extend(getSASLinks(link))\n",
    "SASids"
   ]
  },
  {
   "cell_type": "code",
   "execution_count": 54,
   "id": "b0fc218f-21e4-4d56-ae59-b1fc563dfadf",
   "metadata": {},
   "outputs": [
    {
     "data": {
      "text/plain": [
       "['../data_files/pufs/h229d/h229dv9.zip',\n",
       " '../data_files/pufs/h220d/h220dv9.zip',\n",
       " '../data_files/pufs/h213d/h213dv9.zip',\n",
       " '../data_files/pufs/h206d/h206dv9.zip',\n",
       " '../data_files/pufs/h197d/h197dv9.zip']"
      ]
     },
     "execution_count": 54,
     "metadata": {},
     "output_type": "execute_result"
    }
   ],
   "source": [
    "#get the links to the V9 files\n",
    "\n",
    "SASids = []\n",
    "\n",
    "for link in PUFlinks:\n",
    "    SASids.extend(getV9Links(link))\n",
    "SASids"
   ]
  },
  {
   "cell_type": "code",
   "execution_count": null,
   "id": "76e8fe1e-a965-43be-8b80-0724ed989123",
   "metadata": {},
   "outputs": [],
   "source": [
    "#remove the ones i have xlsx for already\n",
    "\n",
    "# SASids = SASids[5:]\n",
    "# SASids"
   ]
  },
  {
   "cell_type": "code",
   "execution_count": null,
   "id": "03b32804-2b3c-4eff-b562-6729ad3ce73d",
   "metadata": {},
   "outputs": [],
   "source": [
    "#put all ids in one list\n",
    "# allids = ZIPids + SASids\n",
    "# allids"
   ]
  },
  {
   "cell_type": "code",
   "execution_count": 55,
   "id": "d75ff8a8-0267-4290-bae3-07ae8d33b387",
   "metadata": {},
   "outputs": [],
   "source": [
    "#call function to download files\n",
    "list = SASids\n",
    "dir = '../data/his'\n",
    "dlFiles(list, dir)"
   ]
  },
  {
   "cell_type": "markdown",
   "id": "623202e4-c130-49b1-a31d-67b16a5a451c",
   "metadata": {},
   "source": [
    "### *Emergency Room Visits*"
   ]
  },
  {
   "cell_type": "code",
   "execution_count": 56,
   "id": "a6241bca-b12f-44cf-8fad-a1a8ec375c6f",
   "metadata": {},
   "outputs": [],
   "source": [
    "URL = 'https://meps.ahrq.gov/mepsweb/data_stats/download_data_files_results.jsp?cboDataYear=All&cboDataTypeY=2%2CHousehold+Event+File&buttonYearandDataType=Search&cboPufNumber=All&SearchTitle=Emergency+Room+Visits'\n",
    "PUFids = ['HC-229E', 'HC-220E', 'HC-213E', 'HC-206E', 'HC-197E', 'HC-188E', 'HC-178E', 'HC-168E', 'HC-160E', 'HC-152E']"
   ]
  },
  {
   "cell_type": "code",
   "execution_count": 57,
   "id": "fdc65c06-6b78-4234-8560-05d3e779dfe3",
   "metadata": {},
   "outputs": [],
   "source": [
    "# get page link text\n",
    "erv = getPUFLinks(URL)"
   ]
  },
  {
   "cell_type": "code",
   "execution_count": 58,
   "id": "9d307122-2002-41a2-9785-95c61df6db0d",
   "metadata": {},
   "outputs": [
    {
     "name": "stdout",
     "output_type": "stream",
     "text": [
      "['https://meps.ahrq.gov/mepsweb/data_stats/download_data_files_detail.jsp?cboPufNumber=HC-229E', 'https://meps.ahrq.gov/mepsweb/data_stats/download_data_files_detail.jsp?cboPufNumber=HC-220E', 'https://meps.ahrq.gov/mepsweb/data_stats/download_data_files_detail.jsp?cboPufNumber=HC-213E', 'https://meps.ahrq.gov/mepsweb/data_stats/download_data_files_detail.jsp?cboPufNumber=HC-206E', 'https://meps.ahrq.gov/mepsweb/data_stats/download_data_files_detail.jsp?cboPufNumber=HC-197E', 'https://meps.ahrq.gov/mepsweb/data_stats/download_data_files_detail.jsp?cboPufNumber=HC-188E', 'https://meps.ahrq.gov/mepsweb/data_stats/download_data_files_detail.jsp?cboPufNumber=HC-178E', 'https://meps.ahrq.gov/mepsweb/data_stats/download_data_files_detail.jsp?cboPufNumber=HC-168E', 'https://meps.ahrq.gov/mepsweb/data_stats/download_data_files_detail.jsp?cboPufNumber=HC-160E', 'https://meps.ahrq.gov/mepsweb/data_stats/download_data_files_detail.jsp?cboPufNumber=HC-152E']\n"
     ]
    }
   ],
   "source": [
    "#turn link text into full links to pages\n",
    "\n",
    "PUFlinks = (['https://meps.ahrq.gov/mepsweb/data_stats/' + word for word in erv])\n",
    "print(PUFlinks)"
   ]
  },
  {
   "cell_type": "code",
   "execution_count": null,
   "id": "03b32aa6-2ab6-44a7-937f-88c15ee219e0",
   "metadata": {},
   "outputs": [],
   "source": [
    "#get the links to the xlsx.zips\n",
    "\n",
    "# ZIPids= []\n",
    "\n",
    "# for link in PUFlinks:\n",
    "#     ZIPids.extend(getZIPLinks(link))\n",
    "# ZIPids"
   ]
  },
  {
   "cell_type": "code",
   "execution_count": null,
   "id": "93bfdde6-bdfb-4f65-b374-6a0f9962be13",
   "metadata": {},
   "outputs": [],
   "source": [
    "#get the links to the SAS files\n",
    "\n",
    "SASids = []\n",
    "\n",
    "for link in PUFlinks:\n",
    "    SASids.extend(getSASLinks(link))\n",
    "SASids"
   ]
  },
  {
   "cell_type": "code",
   "execution_count": 59,
   "id": "154d5076-a166-4f89-86c6-f603bc837845",
   "metadata": {},
   "outputs": [
    {
     "data": {
      "text/plain": [
       "['../data_files/pufs/h229e/h229ev9.zip',\n",
       " '../data_files/pufs/h220e/h220ev9.zip',\n",
       " '../data_files/pufs/h213e/h213ev9.zip',\n",
       " '../data_files/pufs/h206e/h206ev9.zip',\n",
       " '../data_files/pufs/h197e/h197ev9.zip']"
      ]
     },
     "execution_count": 59,
     "metadata": {},
     "output_type": "execute_result"
    }
   ],
   "source": [
    "#get the links to the V9 files\n",
    "\n",
    "SASids = []\n",
    "\n",
    "for link in PUFlinks:\n",
    "    SASids.extend(getV9Links(link))\n",
    "SASids"
   ]
  },
  {
   "cell_type": "code",
   "execution_count": null,
   "id": "94c02573-e9d5-41ef-bfb5-1debbee71b09",
   "metadata": {},
   "outputs": [],
   "source": [
    "#remove the ones i have xlsx for already\n",
    "\n",
    "# SASids = SASids[5:]\n",
    "# SASids"
   ]
  },
  {
   "cell_type": "code",
   "execution_count": null,
   "id": "08c97135-5aac-4dcd-a84b-bf8d7b59e9de",
   "metadata": {},
   "outputs": [],
   "source": [
    "# #put all ids in one list\n",
    "# allids = ZIPids + SASids\n",
    "# allids"
   ]
  },
  {
   "cell_type": "code",
   "execution_count": 60,
   "id": "f6196d9e-7bb9-43af-a21a-27cf04dff319",
   "metadata": {},
   "outputs": [],
   "source": [
    "#call function to download files\n",
    "list = SASids\n",
    "dir = '../data/erv'\n",
    "dlFiles(list, dir)"
   ]
  },
  {
   "cell_type": "markdown",
   "id": "47f66538-4bf4-40fb-afe5-fe701f9fc856",
   "metadata": {},
   "source": [
    "### *Office-Based Medical Provider Visits*"
   ]
  },
  {
   "cell_type": "code",
   "execution_count": 33,
   "id": "cfc3b706-6e9e-4226-a378-566003072848",
   "metadata": {},
   "outputs": [],
   "source": [
    "URL = 'https://meps.ahrq.gov/mepsweb/data_stats/download_data_files_results.jsp?cboDataYear=All&cboDataTypeY=2%2CHousehold+Event+File&buttonYearandDataType=Search&cboPufNumber=All&SearchTitle=Office-Based+Medical+Provider+Visits'\n",
    "PUFids = ['HC-229G', 'HC-220G', 'HC-213G', 'HC-206G', 'HC-197G', 'HC-188G', 'HC-178G', 'HC-168G', 'HC-160G', 'HC-152G']"
   ]
  },
  {
   "cell_type": "code",
   "execution_count": 34,
   "id": "530c61a9-933e-4915-8a38-788ece7314c6",
   "metadata": {},
   "outputs": [],
   "source": [
    "# get page link text\n",
    "obv = getPUFLinks(URL)"
   ]
  },
  {
   "cell_type": "code",
   "execution_count": 35,
   "id": "ae88f1d1-3717-45df-a03a-9d3e579a1438",
   "metadata": {},
   "outputs": [
    {
     "name": "stdout",
     "output_type": "stream",
     "text": [
      "['https://meps.ahrq.gov/mepsweb/data_stats/download_data_files_detail.jsp?cboPufNumber=HC-229G', 'https://meps.ahrq.gov/mepsweb/data_stats/download_data_files_detail.jsp?cboPufNumber=HC-220G', 'https://meps.ahrq.gov/mepsweb/data_stats/download_data_files_detail.jsp?cboPufNumber=HC-213G', 'https://meps.ahrq.gov/mepsweb/data_stats/download_data_files_detail.jsp?cboPufNumber=HC-206G', 'https://meps.ahrq.gov/mepsweb/data_stats/download_data_files_detail.jsp?cboPufNumber=HC-197G', 'https://meps.ahrq.gov/mepsweb/data_stats/download_data_files_detail.jsp?cboPufNumber=HC-188G', 'https://meps.ahrq.gov/mepsweb/data_stats/download_data_files_detail.jsp?cboPufNumber=HC-178G', 'https://meps.ahrq.gov/mepsweb/data_stats/download_data_files_detail.jsp?cboPufNumber=HC-168G', 'https://meps.ahrq.gov/mepsweb/data_stats/download_data_files_detail.jsp?cboPufNumber=HC-160G', 'https://meps.ahrq.gov/mepsweb/data_stats/download_data_files_detail.jsp?cboPufNumber=HC-152G']\n"
     ]
    }
   ],
   "source": [
    "#turn link text into full links to pages\n",
    "\n",
    "PUFlinks = (['https://meps.ahrq.gov/mepsweb/data_stats/' + word for word in obv])\n",
    "print(PUFlinks)"
   ]
  },
  {
   "cell_type": "code",
   "execution_count": null,
   "id": "d17aa152-ae73-47c7-bfa3-29913056bd75",
   "metadata": {},
   "outputs": [],
   "source": [
    "#get the links to the xlsx.zips\n",
    "\n",
    "# ZIPids= []\n",
    "\n",
    "# for link in PUFlinks:\n",
    "#     ZIPids.extend(getZIPLinks(link))\n",
    "# ZIPids"
   ]
  },
  {
   "cell_type": "code",
   "execution_count": null,
   "id": "a2e7f3c2-1b60-4484-924d-d4142cf55e31",
   "metadata": {},
   "outputs": [],
   "source": [
    "#get the links to the SAS files\n",
    "\n",
    "SASids = []\n",
    "\n",
    "for link in PUFlinks:\n",
    "    SASids.extend(getSASLinks(link))\n",
    "SASids"
   ]
  },
  {
   "cell_type": "code",
   "execution_count": 61,
   "id": "6a98e064-79d4-4f77-a877-5217f75e1703",
   "metadata": {},
   "outputs": [
    {
     "data": {
      "text/plain": [
       "['../data_files/pufs/h229e/h229ev9.zip',\n",
       " '../data_files/pufs/h220e/h220ev9.zip',\n",
       " '../data_files/pufs/h213e/h213ev9.zip',\n",
       " '../data_files/pufs/h206e/h206ev9.zip',\n",
       " '../data_files/pufs/h197e/h197ev9.zip']"
      ]
     },
     "execution_count": 61,
     "metadata": {},
     "output_type": "execute_result"
    }
   ],
   "source": [
    "#get the links to the V9 files\n",
    "\n",
    "SASids = []\n",
    "\n",
    "for link in PUFlinks:\n",
    "    SASids.extend(getV9Links(link))\n",
    "SASids"
   ]
  },
  {
   "cell_type": "code",
   "execution_count": null,
   "id": "8b4f5643-8e17-4c5e-ad63-fdd7ad10ebbe",
   "metadata": {},
   "outputs": [],
   "source": [
    "#remove the ones i have xlsx for already\n",
    "\n",
    "# SASids = SASids[5:]\n",
    "# SASids"
   ]
  },
  {
   "cell_type": "code",
   "execution_count": null,
   "id": "0f52471f-d73e-4b15-a3a9-f87ef46bcb2a",
   "metadata": {},
   "outputs": [],
   "source": [
    "#put all ids in one list\n",
    "# allids = ZIPids + SASids\n",
    "# allids"
   ]
  },
  {
   "cell_type": "code",
   "execution_count": 62,
   "id": "3a1ec37a-5d4d-4c26-b335-a5d2ed400994",
   "metadata": {},
   "outputs": [],
   "source": [
    "#call function to download files\n",
    "list = SASids\n",
    "dir = '../data/obv'\n",
    "dlFiles(list, dir)"
   ]
  },
  {
   "cell_type": "code",
   "execution_count": null,
   "id": "ef67c1e6-5aaf-45c8-a415-27d2b90aea4e",
   "metadata": {},
   "outputs": [],
   "source": []
  }
 ],
 "metadata": {
  "kernelspec": {
   "display_name": "Python 3 (ipykernel)",
   "language": "python",
   "name": "python3"
  },
  "language_info": {
   "codemirror_mode": {
    "name": "ipython",
    "version": 3
   },
   "file_extension": ".py",
   "mimetype": "text/x-python",
   "name": "python",
   "nbconvert_exporter": "python",
   "pygments_lexer": "ipython3",
   "version": "3.11.8"
  }
 },
 "nbformat": 4,
 "nbformat_minor": 5
}
