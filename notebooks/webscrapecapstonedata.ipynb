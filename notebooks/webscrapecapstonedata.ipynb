{
 "cells": [
  {
   "cell_type": "markdown",
   "id": "18eccf5e-d38f-4c44-967c-4e715559acd3",
   "metadata": {},
   "source": [
    "# Webscraping the data"
   ]
  },
  {
   "cell_type": "code",
   "execution_count": 1,
   "id": "35b8f9f1-b3ce-4755-a5f6-237cb6a2b750",
   "metadata": {},
   "outputs": [],
   "source": [
    "import pandas as pd\n",
    "import requests\n",
    "from bs4 import BeautifulSoup\n",
    "import urllib3\n",
    "import regex\n",
    "import re\n",
    "import os"
   ]
  },
  {
   "cell_type": "markdown",
   "id": "56feab73-dea2-4249-ae9e-169cf08131f4",
   "metadata": {},
   "source": [
    "### *Define Functions*"
   ]
  },
  {
   "cell_type": "code",
   "execution_count": 4,
   "id": "bad6a662-1bda-4476-81f1-c411bc5902ca",
   "metadata": {},
   "outputs": [],
   "source": [
    "# define function to retrieve the links from the page(collapse above)\n",
    "\n",
    "def getPUFLinks(URL):\n",
    "    response = requests.get(URL)\n",
    "    soup = BeautifulSoup(response.text)\n",
    "    PUFlinks = []\n",
    "\n",
    "    for link in soup.findAll('tr', attrs = {'id' : 'Row1_neoTD3'}):\n",
    "        href = link.find('a').get('href')\n",
    "        PUF = href.split('=')[1]\n",
    "        if PUF in PUFids:\n",
    "            PUFlinks.append(link.find('a').get('href'))\n",
    "\n",
    "    return PUFlinks"
   ]
  },
  {
   "cell_type": "code",
   "execution_count": 5,
   "id": "7d86bfd2-f604-4d63-b52a-abe5ebe49774",
   "metadata": {},
   "outputs": [],
   "source": [
    "#alter function to retrieve SAS links\n",
    "def getSASLinks(URL):\n",
    "    response = requests.get(URL)\n",
    "    soup = BeautifulSoup(response.text)\n",
    "    SASlinks = []\n",
    "    \n",
    "    for link in soup.findAll('tr', attrs = {'id' : 'faqRoll_neoTD3'}):\n",
    "        href = link.find('a').get('href')\n",
    "        suffix = 'ssp.zip'\n",
    "        if href.endswith(suffix) == True:\n",
    "            SASlinks.append(link.find('a').get('href'))\n",
    "\n",
    "    return SASlinks"
   ]
  },
  {
   "cell_type": "code",
   "execution_count": 6,
   "id": "fa3d8d18-20c1-4707-8a53-11e53df1a9ee",
   "metadata": {},
   "outputs": [],
   "source": [
    "#alter function to retrieve SASv9 links\n",
    "def getV9Links(URL):\n",
    "    response = requests.get(URL)\n",
    "    soup = BeautifulSoup(response.text)\n",
    "    SASlinks = []\n",
    "    \n",
    "    for link in soup.findAll('tr', attrs = {'id' : 'faqRoll_neoTD3'}):\n",
    "        href = link.find('a').get('href')\n",
    "        suffix = 'v9.zip'\n",
    "        if href.endswith(suffix) == True:\n",
    "            SASlinks.append(link.find('a').get('href'))\n",
    "\n",
    "    return SASlinks"
   ]
  },
  {
   "cell_type": "code",
   "execution_count": 7,
   "id": "fe4add7e-79ae-4e2b-808c-6f508697b75a",
   "metadata": {},
   "outputs": [],
   "source": [
    "#define function to download the linked data files\n",
    "def dlFiles(list, dir):\n",
    "    try:\n",
    "        if not os.path.exists(dir):                                        #check if directory exists, if not, create it\n",
    "            os.makedirs(dir)\n",
    "        for url in list:\n",
    "            l= []                                                         #create empty list and use to append the url prefix to the file url\n",
    "            prefix = 'https://meps.ahrq.gov/mepsweb/data_stats/'\n",
    "            l.append(prefix)\n",
    "            l.append(url)\n",
    "            url = ''.join(l)\n",
    "            response = requests.get(url)                                  #get url response and check if successful\n",
    "            response.raise_for_status()\n",
    "            filename = os.path.join(dir, os.path.basename(url))           #create filename using string from url\n",
    "            with open(filename, 'wb') as file:                            #open file in binary mode to write to it\n",
    "                file.write(response.content)\n",
    "    except requests.exceptions.HTTPError as e:                            #errors to return if access fails\n",
    "        print(f'HTTP error occurred for {url}: {e}')\n",
    "    except requests.exceptions.RequestException as e:\n",
    "        print(f'Error occurred for {url}: {e}')\n",
    "         "
   ]
  },
  {
   "cell_type": "markdown",
   "id": "c3f77532-4e85-4b22-a157-78b10f236562",
   "metadata": {},
   "source": [
    "### *Full Year Population Characteristics*"
   ]
  },
  {
   "cell_type": "code",
   "execution_count": 45,
   "id": "22a79854-54aa-42f0-a7e1-4b236d0ba4bd",
   "metadata": {},
   "outputs": [],
   "source": [
    "URL = 'https://meps.ahrq.gov/mepsweb/data_stats/download_data_files_results.jsp?cboDataYear=All&cboDataTypeY=1%2CHousehold+Full+Year+File&buttonYearandDataType=Search&cboPufNumber=All&SearchTitle=Population+Characteristics'\n",
    "PUFids = ['HC-233', 'HC-224', 'HC-216', 'HC-209', 'HC-201', 'HC-192', 'HC-181', 'HC-171', 'HC-163', 'HC-155']"
   ]
  },
  {
   "cell_type": "code",
   "execution_count": 46,
   "id": "06b6c54e-9509-4fa7-90e5-cd6a148c68ec",
   "metadata": {},
   "outputs": [],
   "source": [
    "# get page link text\n",
    "fpc = getPUFLinks(URL)"
   ]
  },
  {
   "cell_type": "code",
   "execution_count": 47,
   "id": "e7f3afbb-bbbc-4da6-84a5-25635cc1d645",
   "metadata": {},
   "outputs": [
    {
     "name": "stdout",
     "output_type": "stream",
     "text": [
      "['https://meps.ahrq.gov/mepsweb/data_stats/download_data_files_detail.jsp?cboPufNumber=HC-233', 'https://meps.ahrq.gov/mepsweb/data_stats/download_data_files_detail.jsp?cboPufNumber=HC-224', 'https://meps.ahrq.gov/mepsweb/data_stats/download_data_files_detail.jsp?cboPufNumber=HC-216', 'https://meps.ahrq.gov/mepsweb/data_stats/download_data_files_detail.jsp?cboPufNumber=HC-209', 'https://meps.ahrq.gov/mepsweb/data_stats/download_data_files_detail.jsp?cboPufNumber=HC-201', 'https://meps.ahrq.gov/mepsweb/data_stats/download_data_files_detail.jsp?cboPufNumber=HC-192', 'https://meps.ahrq.gov/mepsweb/data_stats/download_data_files_detail.jsp?cboPufNumber=HC-181', 'https://meps.ahrq.gov/mepsweb/data_stats/download_data_files_detail.jsp?cboPufNumber=HC-171', 'https://meps.ahrq.gov/mepsweb/data_stats/download_data_files_detail.jsp?cboPufNumber=HC-163', 'https://meps.ahrq.gov/mepsweb/data_stats/download_data_files_detail.jsp?cboPufNumber=HC-155']\n"
     ]
    }
   ],
   "source": [
    "#turn link text into full links to pages\n",
    "\n",
    "PUFlinks = (['https://meps.ahrq.gov/mepsweb/data_stats/' + word for word in fpc])\n",
    "print(PUFlinks)"
   ]
  },
  {
   "cell_type": "code",
   "execution_count": 20,
   "id": "7ea9fa55-f32c-4f2b-83d9-c8c36b7671bc",
   "metadata": {},
   "outputs": [
    {
     "data": {
      "text/plain": [
       "['../data_files/pufs/h233/h233ssp.zip',\n",
       " '../data_files/pufs/h224/h224ssp.zip',\n",
       " '../data_files/pufs/h216/h216ssp.zip',\n",
       " '../data_files/pufs/h209/h209ssp.zip',\n",
       " '../data_files/pufs/h201/h201ssp.zip',\n",
       " '../data_files/pufs/h192ssp.zip',\n",
       " '../data_files/pufs/h181ssp.zip',\n",
       " '../data_files/pufs/h171ssp.zip',\n",
       " '../data_files/pufs/h163ssp.zip',\n",
       " '../data_files/pufs/h155ssp.zip']"
      ]
     },
     "execution_count": 20,
     "metadata": {},
     "output_type": "execute_result"
    }
   ],
   "source": [
    "#get the links to the SAS files\n",
    "\n",
    "SASids = []\n",
    "\n",
    "for link in PUFlinks:\n",
    "    SASids.extend(getSASLinks(link))\n",
    "SASids"
   ]
  },
  {
   "cell_type": "code",
   "execution_count": 48,
   "id": "c3e4d09b-add7-4b59-8fda-9ae4c2be4f7c",
   "metadata": {},
   "outputs": [
    {
     "data": {
      "text/plain": [
       "['../data_files/pufs/h233/h233v9.zip',\n",
       " '../data_files/pufs/h224/h224v9.zip',\n",
       " '../data_files/pufs/h216/h216v9.zip',\n",
       " '../data_files/pufs/h209/h209v9.zip',\n",
       " '../data_files/pufs/h201/h201v9.zip']"
      ]
     },
     "execution_count": 48,
     "metadata": {},
     "output_type": "execute_result"
    }
   ],
   "source": [
    "#get the links to the V9 files\n",
    "\n",
    "V9ids = []\n",
    "\n",
    "for link in PUFlinks:\n",
    "    SASids.extend(getV9Links(link))\n",
    "V9ids"
   ]
  },
  {
   "cell_type": "code",
   "execution_count": null,
   "id": "d37302f1-1ac4-4ce8-8094-414eb08f23c4",
   "metadata": {},
   "outputs": [],
   "source": [
    "remove the ones i have SAS for already\n",
    "\n",
    "SASids = SASids[5:]\n",
    "SASids"
   ]
  },
  {
   "cell_type": "code",
   "execution_count": null,
   "id": "283bb81e-9f09-4b72-abc0-e2d2ebe45bd5",
   "metadata": {},
   "outputs": [],
   "source": [
    "put all ids in one list\n",
    "allids = ZIPids + SASids\n",
    "allids"
   ]
  },
  {
   "cell_type": "code",
   "execution_count": 49,
   "id": "6de944e6-b019-4a68-b16e-b085bc408b78",
   "metadata": {},
   "outputs": [],
   "source": [
    "#call function to download files\n",
    "list = allids\n",
    "dir = '../data/fpc'\n",
    "dlFiles(list, dir)"
   ]
  },
  {
   "cell_type": "markdown",
   "id": "7f6f8c4a-3866-4d70-a7cc-27a0a175a135",
   "metadata": {},
   "source": [
    "### *Hospital Inpatient Stays*"
   ]
  },
  {
   "cell_type": "code",
   "execution_count": 65,
   "id": "f60d28a7-0a24-4907-aece-37494632dbd6",
   "metadata": {},
   "outputs": [],
   "source": [
    "URL = 'https://meps.ahrq.gov/mepsweb/data_stats/download_data_files_results.jsp?cboDataYear=All&cboDataTypeY=2%2CHousehold+Event+File&buttonYearandDataType=Search&cboPufNumber=All&SearchTitle=Hospital+Inpatient+Stays'\n",
    "PUFids = ['HC-229D', 'HC-220D', 'HC-213D', 'HC-206D', 'HC-197D', 'HC-188D', 'HC-178D', 'HC-168D', 'HC-160D', 'HC-152D']"
   ]
  },
  {
   "cell_type": "code",
   "execution_count": 66,
   "id": "16db1563-2da0-4a82-a963-ab9e551d954b",
   "metadata": {},
   "outputs": [],
   "source": [
    "# get page link text\n",
    "his = getPUFLinks(URL)"
   ]
  },
  {
   "cell_type": "code",
   "execution_count": 67,
   "id": "32c9d675-5e98-4ee9-9f6d-3ca8298d06d0",
   "metadata": {},
   "outputs": [
    {
     "name": "stdout",
     "output_type": "stream",
     "text": [
      "['https://meps.ahrq.gov/mepsweb/data_stats/download_data_files_detail.jsp?cboPufNumber=HC-229D', 'https://meps.ahrq.gov/mepsweb/data_stats/download_data_files_detail.jsp?cboPufNumber=HC-220D', 'https://meps.ahrq.gov/mepsweb/data_stats/download_data_files_detail.jsp?cboPufNumber=HC-213D', 'https://meps.ahrq.gov/mepsweb/data_stats/download_data_files_detail.jsp?cboPufNumber=HC-206D', 'https://meps.ahrq.gov/mepsweb/data_stats/download_data_files_detail.jsp?cboPufNumber=HC-197D', 'https://meps.ahrq.gov/mepsweb/data_stats/download_data_files_detail.jsp?cboPufNumber=HC-188D', 'https://meps.ahrq.gov/mepsweb/data_stats/download_data_files_detail.jsp?cboPufNumber=HC-178D', 'https://meps.ahrq.gov/mepsweb/data_stats/download_data_files_detail.jsp?cboPufNumber=HC-168D', 'https://meps.ahrq.gov/mepsweb/data_stats/download_data_files_detail.jsp?cboPufNumber=HC-160D', 'https://meps.ahrq.gov/mepsweb/data_stats/download_data_files_detail.jsp?cboPufNumber=HC-152D']\n"
     ]
    }
   ],
   "source": [
    "#turn link text into full links to pages\n",
    "\n",
    "PUFlinks = (['https://meps.ahrq.gov/mepsweb/data_stats/' + word for word in his])\n",
    "print(PUFlinks)"
   ]
  },
  {
   "cell_type": "code",
   "execution_count": 68,
   "id": "3873405d-3844-48ce-b998-09573ab7d5db",
   "metadata": {},
   "outputs": [
    {
     "data": {
      "text/plain": [
       "['../data_files/pufs/h229d/h229dssp.zip',\n",
       " '../data_files/pufs/h220d/h220dssp.zip',\n",
       " '../data_files/pufs/h213d/h213dssp.zip',\n",
       " '../data_files/pufs/h206d/h206dssp.zip',\n",
       " '../data_files/pufs/h197d/h197dssp.zip',\n",
       " '../data_files/pufs/h188dssp.zip',\n",
       " '../data_files/pufs/h178dssp.zip',\n",
       " '../data_files/pufs/h168dssp.zip',\n",
       " '../data_files/pufs/h160dssp.zip',\n",
       " '../data_files/pufs/h152dssp.zip']"
      ]
     },
     "execution_count": 68,
     "metadata": {},
     "output_type": "execute_result"
    }
   ],
   "source": [
    "#get the links to the SAS files\n",
    "\n",
    "SASids = []\n",
    "\n",
    "for link in PUFlinks:\n",
    "    SASids.extend(getSASLinks(link))\n",
    "SASids"
   ]
  },
  {
   "cell_type": "code",
   "execution_count": 54,
   "id": "b0fc218f-21e4-4d56-ae59-b1fc563dfadf",
   "metadata": {},
   "outputs": [
    {
     "data": {
      "text/plain": [
       "['../data_files/pufs/h229d/h229dv9.zip',\n",
       " '../data_files/pufs/h220d/h220dv9.zip',\n",
       " '../data_files/pufs/h213d/h213dv9.zip',\n",
       " '../data_files/pufs/h206d/h206dv9.zip',\n",
       " '../data_files/pufs/h197d/h197dv9.zip']"
      ]
     },
     "execution_count": 54,
     "metadata": {},
     "output_type": "execute_result"
    }
   ],
   "source": [
    "#get the links to the V9 files\n",
    "\n",
    "V9ids = []\n",
    "\n",
    "for link in PUFlinks:\n",
    "    SASids.extend(getV9Links(link))\n",
    "V9ids"
   ]
  },
  {
   "cell_type": "code",
   "execution_count": null,
   "id": "76e8fe1e-a965-43be-8b80-0724ed989123",
   "metadata": {},
   "outputs": [],
   "source": [
    "remove the ones i have SAS for already\n",
    "\n",
    "SASids = SASids[5:]\n",
    "SASids"
   ]
  },
  {
   "cell_type": "code",
   "execution_count": null,
   "id": "03b32804-2b3c-4eff-b562-6729ad3ce73d",
   "metadata": {},
   "outputs": [],
   "source": [
    "put all ids in one list\n",
    "allids = ZIPids + SASids\n",
    "allids"
   ]
  },
  {
   "cell_type": "code",
   "execution_count": 55,
   "id": "d75ff8a8-0267-4290-bae3-07ae8d33b387",
   "metadata": {},
   "outputs": [],
   "source": [
    "#call function to download files\n",
    "list = allids\n",
    "dir = '../data/his'\n",
    "dlFiles(list, dir)"
   ]
  },
  {
   "cell_type": "markdown",
   "id": "623202e4-c130-49b1-a31d-67b16a5a451c",
   "metadata": {},
   "source": [
    "### *Emergency Room Visits*"
   ]
  },
  {
   "cell_type": "code",
   "execution_count": 56,
   "id": "a6241bca-b12f-44cf-8fad-a1a8ec375c6f",
   "metadata": {},
   "outputs": [],
   "source": [
    "URL = 'https://meps.ahrq.gov/mepsweb/data_stats/download_data_files_results.jsp?cboDataYear=All&cboDataTypeY=2%2CHousehold+Event+File&buttonYearandDataType=Search&cboPufNumber=All&SearchTitle=Emergency+Room+Visits'\n",
    "PUFids = ['HC-229E', 'HC-220E', 'HC-213E', 'HC-206E', 'HC-197E', 'HC-188E', 'HC-178E', 'HC-168E', 'HC-160E', 'HC-152E']"
   ]
  },
  {
   "cell_type": "code",
   "execution_count": 57,
   "id": "fdc65c06-6b78-4234-8560-05d3e779dfe3",
   "metadata": {},
   "outputs": [],
   "source": [
    "# get page link text\n",
    "erv = getPUFLinks(URL)"
   ]
  },
  {
   "cell_type": "code",
   "execution_count": 58,
   "id": "9d307122-2002-41a2-9785-95c61df6db0d",
   "metadata": {},
   "outputs": [
    {
     "name": "stdout",
     "output_type": "stream",
     "text": [
      "['https://meps.ahrq.gov/mepsweb/data_stats/download_data_files_detail.jsp?cboPufNumber=HC-229E', 'https://meps.ahrq.gov/mepsweb/data_stats/download_data_files_detail.jsp?cboPufNumber=HC-220E', 'https://meps.ahrq.gov/mepsweb/data_stats/download_data_files_detail.jsp?cboPufNumber=HC-213E', 'https://meps.ahrq.gov/mepsweb/data_stats/download_data_files_detail.jsp?cboPufNumber=HC-206E', 'https://meps.ahrq.gov/mepsweb/data_stats/download_data_files_detail.jsp?cboPufNumber=HC-197E', 'https://meps.ahrq.gov/mepsweb/data_stats/download_data_files_detail.jsp?cboPufNumber=HC-188E', 'https://meps.ahrq.gov/mepsweb/data_stats/download_data_files_detail.jsp?cboPufNumber=HC-178E', 'https://meps.ahrq.gov/mepsweb/data_stats/download_data_files_detail.jsp?cboPufNumber=HC-168E', 'https://meps.ahrq.gov/mepsweb/data_stats/download_data_files_detail.jsp?cboPufNumber=HC-160E', 'https://meps.ahrq.gov/mepsweb/data_stats/download_data_files_detail.jsp?cboPufNumber=HC-152E']\n"
     ]
    }
   ],
   "source": [
    "#turn link text into full links to pages\n",
    "\n",
    "PUFlinks = (['https://meps.ahrq.gov/mepsweb/data_stats/' + word for word in erv])\n",
    "print(PUFlinks)"
   ]
  },
  {
   "cell_type": "code",
   "execution_count": null,
   "id": "93bfdde6-bdfb-4f65-b374-6a0f9962be13",
   "metadata": {},
   "outputs": [],
   "source": [
    "#get the links to the SAS files\n",
    "\n",
    "SASids = []\n",
    "\n",
    "for link in PUFlinks:\n",
    "    SASids.extend(getSASLinks(link))\n",
    "SASids"
   ]
  },
  {
   "cell_type": "code",
   "execution_count": 59,
   "id": "154d5076-a166-4f89-86c6-f603bc837845",
   "metadata": {},
   "outputs": [
    {
     "data": {
      "text/plain": [
       "['../data_files/pufs/h229e/h229ev9.zip',\n",
       " '../data_files/pufs/h220e/h220ev9.zip',\n",
       " '../data_files/pufs/h213e/h213ev9.zip',\n",
       " '../data_files/pufs/h206e/h206ev9.zip',\n",
       " '../data_files/pufs/h197e/h197ev9.zip']"
      ]
     },
     "execution_count": 59,
     "metadata": {},
     "output_type": "execute_result"
    }
   ],
   "source": [
    "#get the links to the V9 files\n",
    "\n",
    "V9ids = []\n",
    "\n",
    "for link in PUFlinks:\n",
    "    SASids.extend(getV9Links(link))\n",
    "V9ids"
   ]
  },
  {
   "cell_type": "code",
   "execution_count": null,
   "id": "94c02573-e9d5-41ef-bfb5-1debbee71b09",
   "metadata": {},
   "outputs": [],
   "source": [
    "remove the ones i have SAS for already\n",
    "\n",
    "SASids = SASids[5:]\n",
    "SASids"
   ]
  },
  {
   "cell_type": "code",
   "execution_count": null,
   "id": "08c97135-5aac-4dcd-a84b-bf8d7b59e9de",
   "metadata": {},
   "outputs": [],
   "source": [
    "#put all ids in one list\n",
    "allids = ZIPids + SASids\n",
    "allids"
   ]
  },
  {
   "cell_type": "code",
   "execution_count": 60,
   "id": "f6196d9e-7bb9-43af-a21a-27cf04dff319",
   "metadata": {},
   "outputs": [],
   "source": [
    "#call function to download files\n",
    "list = allids\n",
    "dir = '../data/erv'\n",
    "dlFiles(list, dir)"
   ]
  },
  {
   "cell_type": "markdown",
   "id": "47f66538-4bf4-40fb-afe5-fe701f9fc856",
   "metadata": {},
   "source": [
    "### *Office-Based Medical Provider Visits*"
   ]
  },
  {
   "cell_type": "code",
   "execution_count": 2,
   "id": "cfc3b706-6e9e-4226-a378-566003072848",
   "metadata": {},
   "outputs": [],
   "source": [
    "URL = 'https://meps.ahrq.gov/mepsweb/data_stats/download_data_files_results.jsp?cboDataYear=All&cboDataTypeY=2%2CHousehold+Event+File&buttonYearandDataType=Search&cboPufNumber=All&SearchTitle=Office-Based+Medical+Provider+Visits'\n",
    "PUFids = ['HC-229G', 'HC-220G', 'HC-213G', 'HC-206G', 'HC-197G', 'HC-188G', 'HC-178G', 'HC-168G', 'HC-160G', 'HC-152G']"
   ]
  },
  {
   "cell_type": "code",
   "execution_count": 8,
   "id": "530c61a9-933e-4915-8a38-788ece7314c6",
   "metadata": {},
   "outputs": [],
   "source": [
    "# get page link text\n",
    "obv = getPUFLinks(URL)"
   ]
  },
  {
   "cell_type": "code",
   "execution_count": 9,
   "id": "ae88f1d1-3717-45df-a03a-9d3e579a1438",
   "metadata": {},
   "outputs": [
    {
     "name": "stdout",
     "output_type": "stream",
     "text": [
      "['https://meps.ahrq.gov/mepsweb/data_stats/download_data_files_detail.jsp?cboPufNumber=HC-229G', 'https://meps.ahrq.gov/mepsweb/data_stats/download_data_files_detail.jsp?cboPufNumber=HC-220G', 'https://meps.ahrq.gov/mepsweb/data_stats/download_data_files_detail.jsp?cboPufNumber=HC-213G', 'https://meps.ahrq.gov/mepsweb/data_stats/download_data_files_detail.jsp?cboPufNumber=HC-206G', 'https://meps.ahrq.gov/mepsweb/data_stats/download_data_files_detail.jsp?cboPufNumber=HC-197G', 'https://meps.ahrq.gov/mepsweb/data_stats/download_data_files_detail.jsp?cboPufNumber=HC-188G', 'https://meps.ahrq.gov/mepsweb/data_stats/download_data_files_detail.jsp?cboPufNumber=HC-178G', 'https://meps.ahrq.gov/mepsweb/data_stats/download_data_files_detail.jsp?cboPufNumber=HC-168G', 'https://meps.ahrq.gov/mepsweb/data_stats/download_data_files_detail.jsp?cboPufNumber=HC-160G', 'https://meps.ahrq.gov/mepsweb/data_stats/download_data_files_detail.jsp?cboPufNumber=HC-152G']\n"
     ]
    }
   ],
   "source": [
    "#turn link text into full links to pages\n",
    "\n",
    "PUFlinks = (['https://meps.ahrq.gov/mepsweb/data_stats/' + word for word in obv])\n",
    "print(PUFlinks)"
   ]
  },
  {
   "cell_type": "code",
   "execution_count": null,
   "id": "a2e7f3c2-1b60-4484-924d-d4142cf55e31",
   "metadata": {},
   "outputs": [],
   "source": [
    "#get the links to the SAS files\n",
    "\n",
    "SASids = []\n",
    "\n",
    "for link in PUFlinks:\n",
    "    SASids.extend(getSASLinks(link))\n",
    "SASids"
   ]
  },
  {
   "cell_type": "code",
   "execution_count": 10,
   "id": "6a98e064-79d4-4f77-a877-5217f75e1703",
   "metadata": {},
   "outputs": [
    {
     "data": {
      "text/plain": [
       "['../data_files/pufs/h229g/h229gv9.zip',\n",
       " '../data_files/pufs/h220g/h220gv9.zip',\n",
       " '../data_files/pufs/h213g/h213gv9.zip',\n",
       " '../data_files/pufs/h206g/h206gv9.zip',\n",
       " '../data_files/pufs/h197g/h197gv9.zip']"
      ]
     },
     "execution_count": 10,
     "metadata": {},
     "output_type": "execute_result"
    }
   ],
   "source": [
    "#get the links to the V9 files\n",
    "\n",
    "V9ids = []\n",
    "\n",
    "for link in PUFlinks:\n",
    "    SASids.extend(getV9Links(link))\n",
    "V9ids"
   ]
  },
  {
   "cell_type": "code",
   "execution_count": null,
   "id": "8b4f5643-8e17-4c5e-ad63-fdd7ad10ebbe",
   "metadata": {},
   "outputs": [],
   "source": [
    "#remove the ones i have SAS for already\n",
    "\n",
    "SASids = SASids[5:]\n",
    "SASids"
   ]
  },
  {
   "cell_type": "code",
   "execution_count": null,
   "id": "0f52471f-d73e-4b15-a3a9-f87ef46bcb2a",
   "metadata": {},
   "outputs": [],
   "source": [
    "#put all ids in one list\n",
    "allids = SASids + V9ids\n",
    "allids"
   ]
  },
  {
   "cell_type": "code",
   "execution_count": 15,
   "id": "3a1ec37a-5d4d-4c26-b335-a5d2ed400994",
   "metadata": {},
   "outputs": [],
   "source": [
    "#call function to download files\n",
    "list = allids\n",
    "dir = '../data/obv'\n",
    "dlFiles(list, dir)"
   ]
  },
  {
   "cell_type": "code",
   "execution_count": null,
   "id": "ef67c1e6-5aaf-45c8-a415-27d2b90aea4e",
   "metadata": {},
   "outputs": [],
   "source": []
  }
 ],
 "metadata": {
  "kernelspec": {
   "display_name": "Python 3 (ipykernel)",
   "language": "python",
   "name": "python3"
  },
  "language_info": {
   "codemirror_mode": {
    "name": "ipython",
    "version": 3
   },
   "file_extension": ".py",
   "mimetype": "text/x-python",
   "name": "python",
   "nbconvert_exporter": "python",
   "pygments_lexer": "ipython3",
   "version": "3.11.8"
  }
 },
 "nbformat": 4,
 "nbformat_minor": 5
}
