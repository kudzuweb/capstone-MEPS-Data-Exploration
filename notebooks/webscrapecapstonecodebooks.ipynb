{
 "cells": [
  {
   "cell_type": "markdown",
   "id": "e616579d-e00f-483b-814b-aadb59683e2d",
   "metadata": {},
   "source": [
    "# Webscraping the codebooks"
   ]
  },
  {
   "cell_type": "code",
   "execution_count": 116,
   "id": "3588a168-f7b2-4a45-a164-b48c8d620fc6",
   "metadata": {},
   "outputs": [],
   "source": [
    "import requests\n",
    "import pandas as pd\n",
    "import requests\n",
    "from bs4 import BeautifulSoup\n",
    "from datetime import datetime as dt\n",
    "import urllib3\n",
    "import regex\n",
    "import re\n",
    "import os\n",
    "from tqdm.notebook import tqdm"
   ]
  },
  {
   "cell_type": "markdown",
   "id": "fd30d7a8-0f7e-42de-bfc1-6a607fb29514",
   "metadata": {},
   "source": [
    "To get the codebooks I need to:\n",
    "- request the codebook html page\n",
    "- get the html\n",
    "- pull out the name for each variable\n",
    "- drop them in a list\n",
    "- pull out the description for each variable\n",
    "- drop them in a list\n",
    "- merge those lists into a dataframe\n",
    "\n",
    "From there, I will need to:\n",
    "- get the links for each variable name\n",
    "- request each page\n",
    "- get the values from the value column\n",
    "- drop them in a list\n",
    "- get the values from the unweighted column\n",
    "- drop them in a list\n",
    "- get the values from the weighted value column\n",
    "- drop them in a list\n",
    "- merge those lists into a dataframe\n",
    "\n",
    "Finally:\n",
    "- join the variable dfs onto the var+description df in a way where the variable name and description are repeated for each value pertaining to them\n",
    "\n",
    "Then I will be able to use the codebooks to substitute the codes in the data for meaningful variable names with descriptions. Hopefully. Lol"
   ]
  },
  {
   "cell_type": "markdown",
   "id": "d39de740-6011-43a3-b51b-f56379b041f4",
   "metadata": {},
   "source": [
    "### *Full Year Consolidated Data*"
   ]
  },
  {
   "cell_type": "code",
   "execution_count": 12,
   "id": "5a53f95b-2e81-4a7c-9fb6-637b338d676c",
   "metadata": {},
   "outputs": [],
   "source": [
    "# define function to retrieve the links from the page(collapse above)\n",
    "\n",
    "def getPUFLinks(URL):\n",
    "    response = requests.get(URL)\n",
    "    soup = BeautifulSoup(response.text)\n",
    "    PUFlinks = []\n",
    "\n",
    "    for link in soup.findAll('tr', attrs = {'id' : 'Row1_neoTD3'}):\n",
    "        href = link.find('a').get('href')\n",
    "        PUF = href.split('=')[1]\n",
    "        if PUF in PUFids:\n",
    "            PUFlinks.append(link.find('a').get('href'))\n",
    "\n",
    "    return PUFlinks"
   ]
  },
  {
   "cell_type": "code",
   "execution_count": 13,
   "id": "1973e777-d1c9-48fb-b0d6-a3886cd21109",
   "metadata": {},
   "outputs": [
    {
     "name": "stdout",
     "output_type": "stream",
     "text": [
      "['download_data_files_detail.jsp?cboPufNumber=HC-233', 'download_data_files_detail.jsp?cboPufNumber=HC-224', 'download_data_files_detail.jsp?cboPufNumber=HC-216', 'download_data_files_detail.jsp?cboPufNumber=HC-209', 'download_data_files_detail.jsp?cboPufNumber=HC-201', 'download_data_files_detail.jsp?cboPufNumber=HC-192', 'download_data_files_detail.jsp?cboPufNumber=HC-181', 'download_data_files_detail.jsp?cboPufNumber=HC-171', 'download_data_files_detail.jsp?cboPufNumber=HC-163', 'download_data_files_detail.jsp?cboPufNumber=HC-155']\n"
     ]
    }
   ],
   "source": [
    "#get the links for full consolidated data pages\n",
    "PUFids = ['HC-233', 'HC-224', 'HC-216', 'HC-209', 'HC-201', 'HC-192', 'HC-181', 'HC-171', 'HC-163', 'HC-155']\n",
    "URL = 'https://meps.ahrq.gov/mepsweb/data_stats/download_data_files_results.jsp?cboDataYear=All&cboDataTypeY=1%2CHousehold+Full+Year+File&buttonYearandDataType=Search&cboPufNumber=All&SearchTitle=Consolidated+Data'\n",
    "\n",
    "fcd = getPUFLinks(URL)\n",
    "print(fcd)"
   ]
  },
  {
   "cell_type": "code",
   "execution_count": 14,
   "id": "932d210b-0398-4b48-bad7-5de3bbe6d187",
   "metadata": {},
   "outputs": [
    {
     "name": "stdout",
     "output_type": "stream",
     "text": [
      "['https://meps.ahrq.gov/mepsweb/data_stats/download_data_files_detail.jsp?cboPufNumber=HC-233', 'https://meps.ahrq.gov/mepsweb/data_stats/download_data_files_detail.jsp?cboPufNumber=HC-224', 'https://meps.ahrq.gov/mepsweb/data_stats/download_data_files_detail.jsp?cboPufNumber=HC-216', 'https://meps.ahrq.gov/mepsweb/data_stats/download_data_files_detail.jsp?cboPufNumber=HC-209', 'https://meps.ahrq.gov/mepsweb/data_stats/download_data_files_detail.jsp?cboPufNumber=HC-201', 'https://meps.ahrq.gov/mepsweb/data_stats/download_data_files_detail.jsp?cboPufNumber=HC-192', 'https://meps.ahrq.gov/mepsweb/data_stats/download_data_files_detail.jsp?cboPufNumber=HC-181', 'https://meps.ahrq.gov/mepsweb/data_stats/download_data_files_detail.jsp?cboPufNumber=HC-171', 'https://meps.ahrq.gov/mepsweb/data_stats/download_data_files_detail.jsp?cboPufNumber=HC-163', 'https://meps.ahrq.gov/mepsweb/data_stats/download_data_files_detail.jsp?cboPufNumber=HC-155']\n"
     ]
    }
   ],
   "source": [
    "#create list of links to get pages with cb html links\n",
    "\n",
    "PUFlinks = (['https://meps.ahrq.gov/mepsweb/data_stats/' + word for word in fcd])\n",
    "print(PUFlinks)"
   ]
  },
  {
   "cell_type": "code",
   "execution_count": 75,
   "id": "0e5426c2-5250-4816-ad69-a6c156e91536",
   "metadata": {},
   "outputs": [],
   "source": [
    "#define function to get links to codebooks\n",
    "def getCBLinks(URL):\n",
    "    response = requests.get(URL)\n",
    "    soup = BeautifulSoup(response.text)\n",
    "    CBlinks = []\n",
    "    \n",
    "    for link in soup.findAll('tr', attrs = {'id' : 'faqRoll_neoTD3'}):\n",
    "        href = link.findAll('a')[-1].get('href')\n",
    "        prefix = 'download_data_files_codebook'\n",
    "        if href.startswith(prefix) == True:\n",
    "            CBlinks.append(link.findAll('a')[-1].get('href'))\n",
    "\n",
    "    return CBlinks"
   ]
  },
  {
   "cell_type": "code",
   "execution_count": 76,
   "id": "17cc072e-3850-4de6-9f6b-c7ad6322be6b",
   "metadata": {},
   "outputs": [
    {
     "data": {
      "text/plain": [
       "['download_data_files_codebook.jsp?PUFId=H233',\n",
       " 'download_data_files_codebook.jsp?PUFId=H224',\n",
       " 'download_data_files_codebook.jsp?PUFId=H216',\n",
       " 'download_data_files_codebook.jsp?PUFId=H209',\n",
       " 'download_data_files_codebook.jsp?PUFId=H201',\n",
       " 'download_data_files_codebook.jsp?PUFId=H192',\n",
       " 'download_data_files_codebook.jsp?PUFId=H181',\n",
       " 'download_data_files_codebook.jsp?PUFId=H171',\n",
       " 'download_data_files_codebook.jsp?PUFId=H163',\n",
       " 'download_data_files_codebook.jsp?PUFId=H155']"
      ]
     },
     "execution_count": 76,
     "metadata": {},
     "output_type": "execute_result"
    }
   ],
   "source": [
    "#get the links to the codebook pages\n",
    "\n",
    "cbls= []\n",
    "\n",
    "for link in PUFlinks:\n",
    "    cbls.extend(getCBLinks(link))\n",
    "cbls"
   ]
  },
  {
   "cell_type": "code",
   "execution_count": 77,
   "id": "4e8bdc09-6160-422e-986b-61cf27cd2899",
   "metadata": {},
   "outputs": [
    {
     "name": "stdout",
     "output_type": "stream",
     "text": [
      "['https://meps.ahrq.gov/mepsweb/data_stats/download_data_files_codebook.jsp?PUFId=H233', 'https://meps.ahrq.gov/mepsweb/data_stats/download_data_files_codebook.jsp?PUFId=H224', 'https://meps.ahrq.gov/mepsweb/data_stats/download_data_files_codebook.jsp?PUFId=H216', 'https://meps.ahrq.gov/mepsweb/data_stats/download_data_files_codebook.jsp?PUFId=H209', 'https://meps.ahrq.gov/mepsweb/data_stats/download_data_files_codebook.jsp?PUFId=H201', 'https://meps.ahrq.gov/mepsweb/data_stats/download_data_files_codebook.jsp?PUFId=H192', 'https://meps.ahrq.gov/mepsweb/data_stats/download_data_files_codebook.jsp?PUFId=H181', 'https://meps.ahrq.gov/mepsweb/data_stats/download_data_files_codebook.jsp?PUFId=H171', 'https://meps.ahrq.gov/mepsweb/data_stats/download_data_files_codebook.jsp?PUFId=H163', 'https://meps.ahrq.gov/mepsweb/data_stats/download_data_files_codebook.jsp?PUFId=H155']\n"
     ]
    }
   ],
   "source": [
    "cblinks = (['https://meps.ahrq.gov/mepsweb/data_stats/' + word for word in cbls])\n",
    "print(cblinks)"
   ]
  },
  {
   "cell_type": "code",
   "execution_count": 79,
   "id": "c6211b79-d3aa-4870-a56e-8fff969899f5",
   "metadata": {},
   "outputs": [],
   "source": [
    "#loop over cblinks to get html tables, as a dictionary of dataframes\n",
    "fcdCBs = {}\n",
    "\n",
    "for i, link in enumerate(cblinks, start=1):\n",
    "    try:\n",
    "        page = pd.read_html(link)                                                      # read html tables from the page\n",
    "        table = page[1]                                                                # grab second table(should be right one)\n",
    "        key = f'cb_{i}'                                                                # create dynamic key\n",
    "        fcdCBs[key] = table                                                            # store the df in the dictionary\n",
    "    except Exception as e:\n",
    "        print(f\"Error processing {link}: {e}\")"
   ]
  },
  {
   "cell_type": "code",
   "execution_count": 99,
   "id": "90e5b471-cb53-472a-80a3-8b11dc31a20b",
   "metadata": {},
   "outputs": [
    {
     "data": {
      "text/plain": [
       "0           ACCELI42\n",
       "1           ACTDTY31\n",
       "2           ACTDTY42\n",
       "3           ACTDTY53\n",
       "4           ACTLIM31\n",
       "            ...     \n",
       "1483        WRKLIM53\n",
       "1484        YCHJ3142\n",
       "1485        YCHJ4253\n",
       "1486    YNOUSC42_M18\n",
       "1487         YRSINUS\n",
       "Name: Name, Length: 1488, dtype: object"
      ]
     },
     "execution_count": 99,
     "metadata": {},
     "output_type": "execute_result"
    }
   ],
   "source": [
    "# bottom two rows of tables are junk \n",
    "fcdCBs['cb_1']['Name'][:-2]"
   ]
  },
  {
   "cell_type": "code",
   "execution_count": 113,
   "id": "2f6b0036-25ba-4302-aab5-cd110d0f2738",
   "metadata": {},
   "outputs": [],
   "source": [
    "#create dictionary of lists of links from name columns of each variable df\n",
    "PUFids_vars = ['H233', 'H224', 'H216', 'H209', 'H201', 'H192', 'H181', 'H171', 'H163', 'H155']\n",
    "varlinks = {}\n",
    "\n",
    "for i, id in enumerate(PUFids_vars, start = 1):\n",
    "    key = f'cb_{i}'\n",
    "    varlinks[key] = ['https://meps.ahrq.gov/mepsweb/data_stats/download_data_files_codebook.jsp?PUFId='+ id \n",
    "                     + '&varName=' + word for word in fcdCBs[f'cb_{i}']['Name'][:-2]]\n"
   ]
  },
  {
   "cell_type": "code",
   "execution_count": null,
   "id": "0d2252bc-97e5-4b8d-a686-052d52179e5f",
   "metadata": {},
   "outputs": [],
   "source": [
    "#loop over dictionary of lists to create dictionary of dictionaries of dataframes of variable values\n",
    "# fcdvars = {} \n",
    "\n",
    "# for key, varlinkslist in varlinks.items():\n",
    "#     dict = {}\n",
    "#     for i, link in enumerate(varlinkslist, start=0):\n",
    "#         try:\n",
    "#             page = pd.read_html(link)                                                      # read html tables from the page\n",
    "#             table = page[1]                                                                # grab second table(should be right one)\n",
    "#             k = f'var_{i}'                                                                # create dynamic key\n",
    "#             dict[k] = table                                                            # store the df in the dictionary\n",
    "#         except Exception as e:\n",
    "#             print(f\"Error processing {link}: {e}\") \n",
    "#     fcdvars[key] = dict"
   ]
  },
  {
   "cell_type": "code",
   "execution_count": null,
   "id": "768d91bc-7c4b-40e8-83ae-98216885e3ff",
   "metadata": {},
   "outputs": [
    {
     "data": {
      "application/vnd.jupyter.widget-view+json": {
       "model_id": "b3c452ff10424bc49cec1230a4e6e25b",
       "version_major": 2,
       "version_minor": 0
      },
      "text/plain": [
       "0it [00:00, ?it/s]"
      ]
     },
     "metadata": {},
     "output_type": "display_data"
    }
   ],
   "source": [
    "#altered to have a progress bar and run over one year at a time\n",
    "key = 'cb_4'\n",
    "varlinkslist = varlinks[key]\n",
    "\n",
    "dict = {}\n",
    "for i, link in tqdm(enumerate(varlinkslist, start=0)):\n",
    "    try:\n",
    "        page = pd.read_html(link)                                                      # read html tables from the page\n",
    "        table = page[1]                                                                # grab second table(should be right one)\n",
    "        k = f'var_{i}'                                                                # create dynamic key\n",
    "        dict[k] = table                                                            # store the df in the dictionary\n",
    "    except Exception as e:\n",
    "        print(f\"Error processing {link}: {e}\") "
   ]
  },
  {
   "cell_type": "code",
   "execution_count": null,
   "id": "269b80a5-e22f-47f8-9514-1e83f4736d8d",
   "metadata": {},
   "outputs": [],
   "source": [
    "#code to pickle results of above loop so i never have to run it again\n",
    "\n",
    "# import pickle\n",
    "\n",
    "# a = {'hello': 'world'}\n",
    "\n",
    "# with open('filename.pickle', 'wb') as handle:\n",
    "#     pickle.dump(a, handle, protocol=pickle.HIGHEST_PROTOCOL)\n",
    "\n",
    "# with open('filename.pickle', 'rb') as handle:\n",
    "#     b = pickle.load(handle)\n",
    "\n",
    "# print(a == b)"
   ]
  },
  {
   "cell_type": "code",
   "execution_count": null,
   "id": "d2afceee-1c7a-4d68-8433-0cf7b44c0d94",
   "metadata": {},
   "outputs": [],
   "source": [
    "#import pickle of cb_1\n",
    "import pickle\n",
    "\n",
    "with open(f'{key}.pickle', 'wb') as handle:\n",
    "    pickle.dump(dict, handle, protocol=pickle.HIGHEST_PROTOCOL)"
   ]
  },
  {
   "cell_type": "code",
   "execution_count": null,
   "id": "6d34e754-66e6-4eb6-81f6-33768e01e7bd",
   "metadata": {},
   "outputs": [],
   "source": []
  },
  {
   "cell_type": "code",
   "execution_count": null,
   "id": "b9482e8c-1e72-4891-9075-c7d89e28ccd8",
   "metadata": {},
   "outputs": [],
   "source": []
  }
 ],
 "metadata": {
  "kernelspec": {
   "display_name": "Python 3 (ipykernel)",
   "language": "python",
   "name": "python3"
  },
  "language_info": {
   "codemirror_mode": {
    "name": "ipython",
    "version": 3
   },
   "file_extension": ".py",
   "mimetype": "text/x-python",
   "name": "python",
   "nbconvert_exporter": "python",
   "pygments_lexer": "ipython3",
   "version": "3.12.3"
  }
 },
 "nbformat": 4,
 "nbformat_minor": 5
}
