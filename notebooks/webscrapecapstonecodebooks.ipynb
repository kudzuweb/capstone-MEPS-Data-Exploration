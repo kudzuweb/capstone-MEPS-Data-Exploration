{
 "cells": [
  {
   "cell_type": "markdown",
   "id": "e616579d-e00f-483b-814b-aadb59683e2d",
   "metadata": {},
   "source": [
    "# Webscraping the codebooks"
   ]
  },
  {
   "cell_type": "code",
   "execution_count": 121,
   "id": "3588a168-f7b2-4a45-a164-b48c8d620fc6",
   "metadata": {},
   "outputs": [],
   "source": [
    "import pandas as pd\n",
    "import requests\n",
    "from bs4 import BeautifulSoup\n",
    "import urllib3\n",
    "import regex\n",
    "import re\n",
    "import os\n",
    "from tqdm.notebook import tqdm\n",
    "import pickle"
   ]
  },
  {
   "cell_type": "markdown",
   "id": "fd30d7a8-0f7e-42de-bfc1-6a607fb29514",
   "metadata": {},
   "source": [
    "To get the codebooks I need to:\n",
    "- request the codebook html page\n",
    "- get the html\n",
    "- pull out the name for each variable\n",
    "- drop them in a list\n",
    "- pull out the description for each variable\n",
    "- drop them in a list\n",
    "- merge those lists into a dataframe\n",
    "\n",
    "From there, I will need to:\n",
    "- get the links for each variable name\n",
    "- request each page\n",
    "- get the values from the value column\n",
    "- drop them in a list\n",
    "- get the values from the unweighted column\n",
    "- drop them in a list\n",
    "- get the values from the weighted value column\n",
    "- drop them in a list\n",
    "- merge those lists into a dataframe\n",
    "\n",
    "Finally:\n",
    "- join the variable dfs onto the var+description df in a way where the variable name and description are repeated for each value pertaining to them\n",
    "\n",
    "Then I will be able to use the codebooks to substitute the codes in the data for meaningful variable names with descriptions. Hopefully. Lol"
   ]
  },
  {
   "cell_type": "markdown",
   "id": "d39de740-6011-43a3-b51b-f56379b041f4",
   "metadata": {},
   "source": [
    "### *Define Functions*"
   ]
  },
  {
   "cell_type": "code",
   "execution_count": 12,
   "id": "5a53f95b-2e81-4a7c-9fb6-637b338d676c",
   "metadata": {},
   "outputs": [],
   "source": [
    "# define function to retrieve the links from the page(collapse above)\n",
    "\n",
    "def getPUFLinks(URL):\n",
    "    response = requests.get(URL)\n",
    "    soup = BeautifulSoup(response.text)\n",
    "    PUFlinks = []\n",
    "\n",
    "    for link in soup.findAll('tr', attrs = {'id' : 'Row1_neoTD3'}):\n",
    "        href = link.find('a').get('href')\n",
    "        PUF = href.split('=')[1]\n",
    "        if PUF in PUFids:\n",
    "            PUFlinks.append(link.find('a').get('href'))\n",
    "\n",
    "    return PUFlinks"
   ]
  },
  {
   "cell_type": "code",
   "execution_count": 75,
   "id": "0e5426c2-5250-4816-ad69-a6c156e91536",
   "metadata": {},
   "outputs": [],
   "source": [
    "#define function to get links to codebooks\n",
    "def getCBLinks(URL):\n",
    "    response = requests.get(URL)\n",
    "    soup = BeautifulSoup(response.text)\n",
    "    CBlinks = []\n",
    "    \n",
    "    for link in soup.findAll('tr', attrs = {'id' : 'faqRoll_neoTD3'}):\n",
    "        href = link.findAll('a')[-1].get('href')\n",
    "        prefix = 'download_data_files_codebook'\n",
    "        if href.startswith(prefix) == True:\n",
    "            CBlinks.append(link.findAll('a')[-1].get('href'))\n",
    "\n",
    "    return CBlinks"
   ]
  },
  {
   "cell_type": "markdown",
   "id": "cc808803-881e-4e76-aa69-ee7201b48755",
   "metadata": {},
   "source": [
    "### *Population Characteristics*"
   ]
  },
  {
   "cell_type": "code",
   "execution_count": 331,
   "id": "122db59c-f7c7-4356-81ca-08eb8ae1db2a",
   "metadata": {},
   "outputs": [
    {
     "name": "stdout",
     "output_type": "stream",
     "text": [
      "['download_data_files_detail.jsp?cboPufNumber=HC-233', 'download_data_files_detail.jsp?cboPufNumber=HC-224', 'download_data_files_detail.jsp?cboPufNumber=HC-216', 'download_data_files_detail.jsp?cboPufNumber=HC-209', 'download_data_files_detail.jsp?cboPufNumber=HC-201', 'download_data_files_detail.jsp?cboPufNumber=HC-192', 'download_data_files_detail.jsp?cboPufNumber=HC-181', 'download_data_files_detail.jsp?cboPufNumber=HC-171', 'download_data_files_detail.jsp?cboPufNumber=HC-163', 'download_data_files_detail.jsp?cboPufNumber=HC-155']\n"
     ]
    }
   ],
   "source": [
    "#get the links for full population characteristics pages\n",
    "URL = 'https://meps.ahrq.gov/mepsweb/data_stats/download_data_files_results.jsp?cboDataYear=All&cboDataTypeY=1%2CHousehold+Full+Year+File&buttonYearandDataType=Search&cboPufNumber=All&SearchTitle=Population+Characteristics'\n",
    "PUFids = ['HC-233', 'HC-224', 'HC-216', 'HC-209', 'HC-201', 'HC-192', 'HC-181', 'HC-171', 'HC-163', 'HC-155']\n",
    "\n",
    "fpc = getPUFLinks(URL)\n",
    "print(fcd)"
   ]
  },
  {
   "cell_type": "code",
   "execution_count": 332,
   "id": "05f2cbc2-a6fe-4b3c-889c-ecbf4bb1bd4c",
   "metadata": {},
   "outputs": [
    {
     "name": "stdout",
     "output_type": "stream",
     "text": [
      "['https://meps.ahrq.gov/mepsweb/data_stats/download_data_files_detail.jsp?cboPufNumber=HC-233', 'https://meps.ahrq.gov/mepsweb/data_stats/download_data_files_detail.jsp?cboPufNumber=HC-224', 'https://meps.ahrq.gov/mepsweb/data_stats/download_data_files_detail.jsp?cboPufNumber=HC-216', 'https://meps.ahrq.gov/mepsweb/data_stats/download_data_files_detail.jsp?cboPufNumber=HC-209', 'https://meps.ahrq.gov/mepsweb/data_stats/download_data_files_detail.jsp?cboPufNumber=HC-201', 'https://meps.ahrq.gov/mepsweb/data_stats/download_data_files_detail.jsp?cboPufNumber=HC-192', 'https://meps.ahrq.gov/mepsweb/data_stats/download_data_files_detail.jsp?cboPufNumber=HC-181', 'https://meps.ahrq.gov/mepsweb/data_stats/download_data_files_detail.jsp?cboPufNumber=HC-171', 'https://meps.ahrq.gov/mepsweb/data_stats/download_data_files_detail.jsp?cboPufNumber=HC-163', 'https://meps.ahrq.gov/mepsweb/data_stats/download_data_files_detail.jsp?cboPufNumber=HC-155']\n"
     ]
    }
   ],
   "source": [
    "#create list of links to get pages with cb html links\n",
    "\n",
    "PUFlinks = (['https://meps.ahrq.gov/mepsweb/data_stats/' + word for word in fpc])\n",
    "print(PUFlinks)"
   ]
  },
  {
   "cell_type": "code",
   "execution_count": 333,
   "id": "c8450ad9-6807-4b48-8335-df8b3589db0e",
   "metadata": {},
   "outputs": [
    {
     "name": "stdout",
     "output_type": "stream",
     "text": [
      "['https://meps.ahrq.gov/mepsweb/data_stats/download_data_files_codebook.jsp?PUFId=H233', 'https://meps.ahrq.gov/mepsweb/data_stats/download_data_files_codebook.jsp?PUFId=H224', 'https://meps.ahrq.gov/mepsweb/data_stats/download_data_files_codebook.jsp?PUFId=H216', 'https://meps.ahrq.gov/mepsweb/data_stats/download_data_files_codebook.jsp?PUFId=H209', 'https://meps.ahrq.gov/mepsweb/data_stats/download_data_files_codebook.jsp?PUFId=H201', 'https://meps.ahrq.gov/mepsweb/data_stats/download_data_files_codebook.jsp?PUFId=H192', 'https://meps.ahrq.gov/mepsweb/data_stats/download_data_files_codebook.jsp?PUFId=H181', 'https://meps.ahrq.gov/mepsweb/data_stats/download_data_files_codebook.jsp?PUFId=H171', 'https://meps.ahrq.gov/mepsweb/data_stats/download_data_files_codebook.jsp?PUFId=H163', 'https://meps.ahrq.gov/mepsweb/data_stats/download_data_files_codebook.jsp?PUFId=H155']\n"
     ]
    }
   ],
   "source": [
    "#get the links to the codebook pages and turn into working links\n",
    "cblinks = []\n",
    "\n",
    "for link in PUFlinks:\n",
    "    cbl = getCBLinks(link)\n",
    "    cblinks.extend('https://meps.ahrq.gov/mepsweb/data_stats/' + word for word in cbl)\n",
    "print(cblinks)"
   ]
  },
  {
   "cell_type": "code",
   "execution_count": 334,
   "id": "8e3d0068-02ee-4d10-b5cb-eebabc8972bc",
   "metadata": {},
   "outputs": [],
   "source": [
    "#loop over cblinks to get html tables, as a dictionary of dataframes\n",
    "fpcCBs = {}\n",
    "\n",
    "for i, link in enumerate(cblinks, start=1):\n",
    "    try:\n",
    "        page = pd.read_html(link)                                                      # read html tables from the page\n",
    "        table = page[1]                                                                # grab second table(should be right one)\n",
    "        key = f'cb_{i}'                                                                # create dynamic key\n",
    "        fpcCBs[key] = table                                                            # store the df in the dictionary\n",
    "    except Exception as e:\n",
    "        print(f\"Error processing {link}: {e}\")"
   ]
  },
  {
   "cell_type": "code",
   "execution_count": 335,
   "id": "e1c8e01b-4bfe-4785-8cfe-66ae50ef2cda",
   "metadata": {},
   "outputs": [
    {
     "data": {
      "text/plain": [
       "0           ACCELI42\n",
       "1           ACTDTY31\n",
       "2           ACTDTY42\n",
       "3           ACTDTY53\n",
       "4           ACTLIM31\n",
       "            ...     \n",
       "1483        WRKLIM53\n",
       "1484        YCHJ3142\n",
       "1485        YCHJ4253\n",
       "1486    YNOUSC42_M18\n",
       "1487         YRSINUS\n",
       "Name: Name, Length: 1488, dtype: object"
      ]
     },
     "execution_count": 335,
     "metadata": {},
     "output_type": "execute_result"
    }
   ],
   "source": [
    "#check dictionary contents\n",
    "fpcCBs['cb_1']['Name'][:-2]"
   ]
  },
  {
   "cell_type": "code",
   "execution_count": 163,
   "id": "4f3da264-8f36-4e0c-8f55-a40959079b1d",
   "metadata": {},
   "outputs": [],
   "source": [
    "#create dictionary of lists of links from name columns of each variable df\n",
    "PUFids_vars = ['H233', 'H224', 'H216', 'H209', 'H201', 'H192', 'H181', 'H171', 'H163', 'H155']\n",
    "varlinks = {}\n",
    "\n",
    "for i, id in enumerate(PUFids_vars, start = 1):\n",
    "    key = f'cb_{i}'\n",
    "    varlinks[key] = ['https://meps.ahrq.gov/mepsweb/data_stats/download_data_files_codebook.jsp?PUFId='+ id \n",
    "                     + '&varName=' + word for word in fcdCBs[f'cb_{i}']['Name'][:-2]]\n"
   ]
  },
  {
   "cell_type": "code",
   "execution_count": 195,
   "id": "585eed02-2d76-477f-b64a-610efc1a2957",
   "metadata": {},
   "outputs": [
    {
     "data": {
      "application/vnd.jupyter.widget-view+json": {
       "model_id": "946ef47b2c754f9a96734a70e4dce898",
       "version_major": 2,
       "version_minor": 0
      },
      "text/plain": [
       "0it [00:00, ?it/s]"
      ]
     },
     "metadata": {},
     "output_type": "display_data"
    }
   ],
   "source": [
    "#loop over dictionary of lists to create dictionary of dictionaries of dataframes of variable values\n",
    "#altered to have a progress bar and run over one year at a time\n",
    "key = 'cb_10'\n",
    "varlinkslist = varlinks[key]\n",
    "\n",
    "dict = {}\n",
    "for i, link in tqdm(enumerate(varlinkslist, start=0)):\n",
    "    try:\n",
    "        page = pd.read_html(link)                                                      # read html tables from the page\n",
    "        table = page[1]                                                                # grab second table(should be right one)\n",
    "        k = f'var_{i}'                                                                # create dynamic key\n",
    "        dict[k] = table                                                            # store the df in the dictionary\n",
    "    except Exception as e:\n",
    "        print(f\"Error processing {link}: {e}\") "
   ]
  },
  {
   "cell_type": "code",
   "execution_count": 196,
   "id": "bf2c4ca0-956a-4c80-8e6f-8bdebd73237c",
   "metadata": {},
   "outputs": [
    {
     "data": {
      "text/plain": [
       "1883"
      ]
     },
     "execution_count": 196,
     "metadata": {},
     "output_type": "execute_result"
    }
   ],
   "source": [
    "len(varlinks['cb_10'])"
   ]
  },
  {
   "cell_type": "code",
   "execution_count": 197,
   "id": "881e77f1-0f80-4184-ae85-f8eceb476d20",
   "metadata": {},
   "outputs": [],
   "source": [
    "#code to pickle results of above loop so i never have to run it again\n",
    "\n",
    "a = dict\n",
    "\n",
    "with open('../data/fpc_cbpickles/cb_10.pickle', 'wb') as handle:\n",
    "    pickle.dump(a, handle, protocol=pickle.HIGHEST_PROTOCOL)"
   ]
  },
  {
   "cell_type": "code",
   "execution_count": 341,
   "id": "4563ddf2-92d9-434c-aece-270618ca2742",
   "metadata": {},
   "outputs": [],
   "source": [
    "#export variables and descriptions to csvs\n",
    "for cb in fpcCBs:\n",
    "    fpcCBs[cb].iloc[:, [0, 3]].to_csv(f'../data/fpcCBcsvs/{cb}.csv', index= False)"
   ]
  },
  {
   "cell_type": "markdown",
   "id": "87f0f23e-d2a3-4a0e-a26d-170f98e1baae",
   "metadata": {},
   "source": [
    "### *Hospital Inpatient Stays*"
   ]
  },
  {
   "cell_type": "code",
   "execution_count": 278,
   "id": "e49aff63-dbd6-4d98-8884-4f10f0c877dd",
   "metadata": {},
   "outputs": [
    {
     "name": "stdout",
     "output_type": "stream",
     "text": [
      "['download_data_files_detail.jsp?cboPufNumber=HC-229D', 'download_data_files_detail.jsp?cboPufNumber=HC-220D', 'download_data_files_detail.jsp?cboPufNumber=HC-213D', 'download_data_files_detail.jsp?cboPufNumber=HC-206D', 'download_data_files_detail.jsp?cboPufNumber=HC-197D', 'download_data_files_detail.jsp?cboPufNumber=HC-188D', 'download_data_files_detail.jsp?cboPufNumber=HC-178D', 'download_data_files_detail.jsp?cboPufNumber=HC-168D', 'download_data_files_detail.jsp?cboPufNumber=HC-160D', 'download_data_files_detail.jsp?cboPufNumber=HC-152D']\n"
     ]
    }
   ],
   "source": [
    "#get the links for full population characteristics pages\n",
    "URL = 'https://meps.ahrq.gov/mepsweb/data_stats/download_data_files_results.jsp?cboDataYear=All&cboDataTypeY=2%2CHousehold+Event+File&buttonYearandDataType=Search&cboPufNumber=All&SearchTitle=Hospital+Inpatient+Stays'\n",
    "PUFids = ['HC-229D', 'HC-220D', 'HC-213D', 'HC-206D', 'HC-197D', 'HC-188D', 'HC-178D', 'HC-168D', 'HC-160D', 'HC-152D']\n",
    "\n",
    "his = getPUFLinks(URL)\n",
    "print(his)"
   ]
  },
  {
   "cell_type": "code",
   "execution_count": 199,
   "id": "996d94c8-c438-447e-aba7-005749cfdb41",
   "metadata": {},
   "outputs": [
    {
     "name": "stdout",
     "output_type": "stream",
     "text": [
      "['https://meps.ahrq.gov/mepsweb/data_stats/download_data_files_detail.jsp?cboPufNumber=HC-229D', 'https://meps.ahrq.gov/mepsweb/data_stats/download_data_files_detail.jsp?cboPufNumber=HC-220D', 'https://meps.ahrq.gov/mepsweb/data_stats/download_data_files_detail.jsp?cboPufNumber=HC-213D', 'https://meps.ahrq.gov/mepsweb/data_stats/download_data_files_detail.jsp?cboPufNumber=HC-206D', 'https://meps.ahrq.gov/mepsweb/data_stats/download_data_files_detail.jsp?cboPufNumber=HC-197D', 'https://meps.ahrq.gov/mepsweb/data_stats/download_data_files_detail.jsp?cboPufNumber=HC-188D', 'https://meps.ahrq.gov/mepsweb/data_stats/download_data_files_detail.jsp?cboPufNumber=HC-178D', 'https://meps.ahrq.gov/mepsweb/data_stats/download_data_files_detail.jsp?cboPufNumber=HC-168D', 'https://meps.ahrq.gov/mepsweb/data_stats/download_data_files_detail.jsp?cboPufNumber=HC-160D', 'https://meps.ahrq.gov/mepsweb/data_stats/download_data_files_detail.jsp?cboPufNumber=HC-152D']\n"
     ]
    }
   ],
   "source": [
    "#create list of links to get pages with cb html links\n",
    "\n",
    "PUFlinks = (['https://meps.ahrq.gov/mepsweb/data_stats/' + word for word in his])\n",
    "print(PUFlinks)"
   ]
  },
  {
   "cell_type": "code",
   "execution_count": 200,
   "id": "8252b93f-4ac4-4ba0-ab46-0323b17a2b57",
   "metadata": {},
   "outputs": [
    {
     "name": "stdout",
     "output_type": "stream",
     "text": [
      "['https://meps.ahrq.gov/mepsweb/data_stats/download_data_files_codebook.jsp?PUFId=H229D', 'https://meps.ahrq.gov/mepsweb/data_stats/download_data_files_codebook.jsp?PUFId=H220D', 'https://meps.ahrq.gov/mepsweb/data_stats/download_data_files_codebook.jsp?PUFId=H213D', 'https://meps.ahrq.gov/mepsweb/data_stats/download_data_files_codebook.jsp?PUFId=H206D', 'https://meps.ahrq.gov/mepsweb/data_stats/download_data_files_codebook.jsp?PUFId=H197D', 'https://meps.ahrq.gov/mepsweb/data_stats/download_data_files_codebook.jsp?PUFId=H188D', 'https://meps.ahrq.gov/mepsweb/data_stats/download_data_files_codebook.jsp?PUFId=H178D', 'https://meps.ahrq.gov/mepsweb/data_stats/download_data_files_codebook.jsp?PUFId=H168D', 'https://meps.ahrq.gov/mepsweb/data_stats/download_data_files_codebook.jsp?PUFId=H160D', 'https://meps.ahrq.gov/mepsweb/data_stats/download_data_files_codebook.jsp?PUFId=H152D']\n"
     ]
    }
   ],
   "source": [
    "#get the links to the codebook pages and turn into working links\n",
    "cblinks = []\n",
    "\n",
    "for link in PUFlinks:\n",
    "    cbl = getCBLinks(link)\n",
    "    cblinks.extend('https://meps.ahrq.gov/mepsweb/data_stats/' + word for word in cbl)\n",
    "print(cblinks)"
   ]
  },
  {
   "cell_type": "code",
   "execution_count": 206,
   "id": "ff20b030-5a97-495a-9bcf-8e749d988f0d",
   "metadata": {},
   "outputs": [],
   "source": [
    "#loop over cblinks to get html tables, as a dictionary of dataframes\n",
    "hisCBs = {}\n",
    "\n",
    "for i, link in enumerate(cblinks, start=1):\n",
    "    try:\n",
    "        page = pd.read_html(link)                                                      # read html tables from the page\n",
    "        table = page[1]                                                                # grab second table(should be right one)\n",
    "        key = f'cb_{i}'                                                                # create dynamic key\n",
    "        hisCBs[key] = table                                                            # store the df in the dictionary\n",
    "    except Exception as e:\n",
    "        print(f\"Error processing {link}: {e}\")"
   ]
  },
  {
   "cell_type": "code",
   "execution_count": 212,
   "id": "ec75ae5e-d98b-4cee-98b3-778a0c14067e",
   "metadata": {},
   "outputs": [
    {
     "data": {
      "text/plain": [
       "0      ANYOPER\n",
       "1     DSCHPMED\n",
       "2         DUID\n",
       "3     DUPERSID\n",
       "4     EMERROOM\n",
       "5     ERHEVIDX\n",
       "6      EVENTRN\n",
       "7      EVNTIDX\n",
       "8      FFEEIDX\n",
       "9     FFIPTYPE\n",
       "10     IMPFLAG\n",
       "11     IPBEGMM\n",
       "12     IPBEGYR\n",
       "13    IPDMD21X\n",
       "14    IPDMR21X\n",
       "15    IPDOF21X\n",
       "16    IPDOT21X\n",
       "17    IPDPV21X\n",
       "18    IPDSF21X\n",
       "19    IPDSL21X\n",
       "20    IPDTC21X\n",
       "21    IPDTR21X\n",
       "22    IPDVA21X\n",
       "23    IPDWC21X\n",
       "24    IPDXP21X\n",
       "25     IPENDMM\n",
       "26     IPENDYR\n",
       "27    IPFMD21X\n",
       "28    IPFMR21X\n",
       "29    IPFOF21X\n",
       "30    IPFOT21X\n",
       "31    IPFPV21X\n",
       "32    IPFSF21X\n",
       "33    IPFSL21X\n",
       "34    IPFTC21X\n",
       "35    IPFTR21X\n",
       "36    IPFVA21X\n",
       "37    IPFWC21X\n",
       "38    IPFXP21X\n",
       "39     IPTC21X\n",
       "40     IPXP21X\n",
       "41     MPCDATA\n",
       "42    NUMNIGHX\n",
       "43       PANEL\n",
       "44    PERWT21F\n",
       "45         PID\n",
       "46    RSNINHOS\n",
       "47    SPECCOND\n",
       "48      VARPSU\n",
       "49      VARSTR\n",
       "Name: Name, dtype: object"
      ]
     },
     "execution_count": 212,
     "metadata": {},
     "output_type": "execute_result"
    }
   ],
   "source": [
    "#check dictionary contents\n",
    "hisCBs['cb_1']['Name'][:-2]"
   ]
  },
  {
   "cell_type": "code",
   "execution_count": 208,
   "id": "19f85edb-8046-4df5-a58c-d2f89995bac3",
   "metadata": {},
   "outputs": [],
   "source": [
    "#create dictionary of lists of links from name columns of each variable df\n",
    "\n",
    "PUFids_vars = ['H229D', 'H220D', 'H213D', 'H206D', 'H197D', 'H188D', 'H178D', 'H168D', 'H160D', 'H152D']\n",
    "varlinks = {}\n",
    "\n",
    "for i, id in enumerate(PUFids_vars, start = 1):\n",
    "    key = f'cb_{i}'\n",
    "    varlinks[key] = ['https://meps.ahrq.gov/mepsweb/data_stats/download_data_files_codebook.jsp?PUFId='+ id \n",
    "                     + '&varName=' + word for word in hisCBs[f'cb_{i}']['Name'][:-2]]\n"
   ]
  },
  {
   "cell_type": "code",
   "execution_count": 236,
   "id": "6de8b799-168a-4a47-8d55-59b86c108a22",
   "metadata": {},
   "outputs": [
    {
     "data": {
      "application/vnd.jupyter.widget-view+json": {
       "model_id": "fc8bd1d187ca49d08d585d511c903358",
       "version_major": 2,
       "version_minor": 0
      },
      "text/plain": [
       "0it [00:00, ?it/s]"
      ]
     },
     "metadata": {},
     "output_type": "display_data"
    }
   ],
   "source": [
    "#loop over dictionary of lists to create dictionary of dictionaries of dataframes of variable values\n",
    "#altered to have a progress bar and run over one year at a time\n",
    "key = 'cb_10'\n",
    "varlinkslist = varlinks[key]\n",
    "\n",
    "dict = {}\n",
    "for i, link in tqdm(enumerate(varlinkslist, start=0)):\n",
    "    try:\n",
    "        page = pd.read_html(link)                                                      # read html tables from the page\n",
    "        table = page[1]                                                                # grab second table(should be right one)\n",
    "        k = f'var_{i}'                                                                # create dynamic key\n",
    "        dict[k] = table                                                            # store the df in the dictionary\n",
    "    except Exception as e:\n",
    "        print(f\"Error processing {link}: {e}\") "
   ]
  },
  {
   "cell_type": "code",
   "execution_count": 237,
   "id": "e5def1fa-7c4f-4612-b595-945852c8c310",
   "metadata": {},
   "outputs": [
    {
     "data": {
      "text/plain": [
       "69"
      ]
     },
     "execution_count": 237,
     "metadata": {},
     "output_type": "execute_result"
    }
   ],
   "source": [
    "len(varlinks['cb_10'])"
   ]
  },
  {
   "cell_type": "code",
   "execution_count": 238,
   "id": "8444c435-c19e-4a3c-bc42-30c21c8d003f",
   "metadata": {},
   "outputs": [],
   "source": [
    "#code to pickle results of above loop so i never have to run it again\n",
    "\n",
    "a = dict\n",
    "\n",
    "with open('../data/his_cbpickles/cb_10.pickle', 'wb') as handle:\n",
    "    pickle.dump(a, handle, protocol=pickle.HIGHEST_PROTOCOL)"
   ]
  },
  {
   "cell_type": "code",
   "execution_count": 342,
   "id": "2a4c2af6-693e-453d-9d48-f59e82406ca0",
   "metadata": {},
   "outputs": [],
   "source": [
    "#export variables and descriptions to csvs\n",
    "for cb in hisCBs:\n",
    "    hisCBs[cb].iloc[:, [0, 3]].to_csv(f'../data/hisCBcsvs/{cb}.csv', index= False)"
   ]
  },
  {
   "cell_type": "markdown",
   "id": "78c3f830-6a8c-4275-84e8-fbcfaec4b335",
   "metadata": {},
   "source": [
    "### *Emergency Room Visits*"
   ]
  },
  {
   "cell_type": "code",
   "execution_count": 277,
   "id": "3d4154a7-b7e6-4c10-83b3-312c5dc16560",
   "metadata": {},
   "outputs": [
    {
     "name": "stdout",
     "output_type": "stream",
     "text": [
      "['download_data_files_detail.jsp?cboPufNumber=HC-229E', 'download_data_files_detail.jsp?cboPufNumber=HC-220E', 'download_data_files_detail.jsp?cboPufNumber=HC-213E', 'download_data_files_detail.jsp?cboPufNumber=HC-206E', 'download_data_files_detail.jsp?cboPufNumber=HC-197E', 'download_data_files_detail.jsp?cboPufNumber=HC-188E', 'download_data_files_detail.jsp?cboPufNumber=HC-178E', 'download_data_files_detail.jsp?cboPufNumber=HC-168E', 'download_data_files_detail.jsp?cboPufNumber=HC-160E', 'download_data_files_detail.jsp?cboPufNumber=HC-152E']\n"
     ]
    }
   ],
   "source": [
    "#get the links for full population characteristics pages\n",
    "URL = 'https://meps.ahrq.gov/mepsweb/data_stats/download_data_files_results.jsp?cboDataYear=All&cboDataTypeY=2%2CHousehold+Event+File&buttonYearandDataType=Search&cboPufNumber=All&SearchTitle=Emergency+Room+Visits'\n",
    "PUFids = ['HC-229E', 'HC-220E', 'HC-213E', 'HC-206E', 'HC-197E', 'HC-188E', 'HC-178E', 'HC-168E', 'HC-160E', 'HC-152E']\n",
    "\n",
    "erv = getPUFLinks(URL)\n",
    "print(erv)"
   ]
  },
  {
   "cell_type": "code",
   "execution_count": 240,
   "id": "72479c87-c49c-445c-82e7-08803c71accb",
   "metadata": {},
   "outputs": [
    {
     "name": "stdout",
     "output_type": "stream",
     "text": [
      "['https://meps.ahrq.gov/mepsweb/data_stats/download_data_files_detail.jsp?cboPufNumber=HC-229E', 'https://meps.ahrq.gov/mepsweb/data_stats/download_data_files_detail.jsp?cboPufNumber=HC-220E', 'https://meps.ahrq.gov/mepsweb/data_stats/download_data_files_detail.jsp?cboPufNumber=HC-213E', 'https://meps.ahrq.gov/mepsweb/data_stats/download_data_files_detail.jsp?cboPufNumber=HC-206E', 'https://meps.ahrq.gov/mepsweb/data_stats/download_data_files_detail.jsp?cboPufNumber=HC-197E', 'https://meps.ahrq.gov/mepsweb/data_stats/download_data_files_detail.jsp?cboPufNumber=HC-188E', 'https://meps.ahrq.gov/mepsweb/data_stats/download_data_files_detail.jsp?cboPufNumber=HC-178E', 'https://meps.ahrq.gov/mepsweb/data_stats/download_data_files_detail.jsp?cboPufNumber=HC-168E', 'https://meps.ahrq.gov/mepsweb/data_stats/download_data_files_detail.jsp?cboPufNumber=HC-160E', 'https://meps.ahrq.gov/mepsweb/data_stats/download_data_files_detail.jsp?cboPufNumber=HC-152E']\n"
     ]
    }
   ],
   "source": [
    "#create list of links to get pages with cb html links\n",
    "\n",
    "PUFlinks = (['https://meps.ahrq.gov/mepsweb/data_stats/' + word for word in erv])\n",
    "print(PUFlinks)"
   ]
  },
  {
   "cell_type": "code",
   "execution_count": 241,
   "id": "1ce1eb62-47d5-4e19-9a01-ea316fef5071",
   "metadata": {},
   "outputs": [
    {
     "name": "stdout",
     "output_type": "stream",
     "text": [
      "['https://meps.ahrq.gov/mepsweb/data_stats/download_data_files_codebook.jsp?PUFId=H229E', 'https://meps.ahrq.gov/mepsweb/data_stats/download_data_files_codebook.jsp?PUFId=H220E', 'https://meps.ahrq.gov/mepsweb/data_stats/download_data_files_codebook.jsp?PUFId=H213E', 'https://meps.ahrq.gov/mepsweb/data_stats/download_data_files_codebook.jsp?PUFId=H206E', 'https://meps.ahrq.gov/mepsweb/data_stats/download_data_files_codebook.jsp?PUFId=H197E', 'https://meps.ahrq.gov/mepsweb/data_stats/download_data_files_codebook.jsp?PUFId=H188E', 'https://meps.ahrq.gov/mepsweb/data_stats/download_data_files_codebook.jsp?PUFId=H178E', 'https://meps.ahrq.gov/mepsweb/data_stats/download_data_files_codebook.jsp?PUFId=H168E', 'https://meps.ahrq.gov/mepsweb/data_stats/download_data_files_codebook.jsp?PUFId=H160E', 'https://meps.ahrq.gov/mepsweb/data_stats/download_data_files_codebook.jsp?PUFId=H152E']\n"
     ]
    }
   ],
   "source": [
    "#get the links to the codebook pages and turn into working links\n",
    "cblinks = []\n",
    "\n",
    "for link in PUFlinks:\n",
    "    cbl = getCBLinks(link)\n",
    "    cblinks.extend('https://meps.ahrq.gov/mepsweb/data_stats/' + word for word in cbl)\n",
    "print(cblinks)"
   ]
  },
  {
   "cell_type": "code",
   "execution_count": 242,
   "id": "f52a863c-ec63-4e1a-ae73-137bb2d3ef0f",
   "metadata": {},
   "outputs": [],
   "source": [
    "#loop over cblinks to get html tables, as a dictionary of dataframes\n",
    "ervCBs = {}\n",
    "\n",
    "for i, link in enumerate(cblinks, start=1):\n",
    "    try:\n",
    "        page = pd.read_html(link)                                                      # read html tables from the page\n",
    "        table = page[1]                                                                # grab second table(should be right one)\n",
    "        key = f'cb_{i}'                                                                # create dynamic key\n",
    "        ervCBs[key] = table                                                            # store the df in the dictionary\n",
    "    except Exception as e:\n",
    "        print(f\"Error processing {link}: {e}\")"
   ]
  },
  {
   "cell_type": "code",
   "execution_count": 243,
   "id": "f31b1909-9546-49a0-812f-a2ea7addd3c1",
   "metadata": {},
   "outputs": [
    {
     "data": {
      "text/plain": [
       "0             DUID\n",
       "1         DUPERSID\n",
       "2          EKG_M18\n",
       "3         ERDATEMM\n",
       "4         ERDATEYR\n",
       "5         ERDMD21X\n",
       "6         ERDMR21X\n",
       "7         ERDOF21X\n",
       "8         ERDOT21X\n",
       "9         ERDPV21X\n",
       "10        ERDSF21X\n",
       "11        ERDSL21X\n",
       "12        ERDTC21X\n",
       "13        ERDTR21X\n",
       "14        ERDVA21X\n",
       "15        ERDWC21X\n",
       "16        ERDXP21X\n",
       "17        ERFMD21X\n",
       "18        ERFMR21X\n",
       "19        ERFOF21X\n",
       "20        ERFOT21X\n",
       "21        ERFPV21X\n",
       "22        ERFSF21X\n",
       "23        ERFSL21X\n",
       "24        ERFTC21X\n",
       "25        ERFTR21X\n",
       "26        ERFVA21X\n",
       "27        ERFWC21X\n",
       "28        ERFXP21X\n",
       "29        ERHEVIDX\n",
       "30         ERTC21X\n",
       "31         ERXP21X\n",
       "32         EVENTRN\n",
       "33         EVNTIDX\n",
       "34         FFEEIDX\n",
       "35        FFERTYPE\n",
       "36         IMPFLAG\n",
       "37     LABTEST_M18\n",
       "38      MAMMOG_M18\n",
       "39        MEDPRESC\n",
       "40         MPCDATA\n",
       "41         MRI_M18\n",
       "42           PANEL\n",
       "43        PERWT21F\n",
       "44             PID\n",
       "45      RCVVAC_M18\n",
       "46    SONOGRAM_M18\n",
       "47        SURGPROC\n",
       "48          VARPSU\n",
       "49          VARSTR\n",
       "50        VSTCTGRY\n",
       "51        VSTRELCN\n",
       "52       XRAYS_M18\n",
       "Name: Name, dtype: object"
      ]
     },
     "execution_count": 243,
     "metadata": {},
     "output_type": "execute_result"
    }
   ],
   "source": [
    "#check dictionary contents\n",
    "ervCBs['cb_1']['Name'][:-2]"
   ]
  },
  {
   "cell_type": "code",
   "execution_count": 244,
   "id": "6a0701e7-0c8d-4e9d-9bc9-5a1fa6932cff",
   "metadata": {},
   "outputs": [],
   "source": [
    "#create dictionary of lists of links from name columns of each variable df\n",
    "\n",
    "PUFids_vars = ['H229E', 'H220E', 'H213E', 'H206E', 'H197E', 'H188E', 'H178E', 'H168E', 'H160E', 'H152E']\n",
    "varlinks = {}\n",
    "\n",
    "for i, id in enumerate(PUFids_vars, start = 1):\n",
    "    key = f'cb_{i}'\n",
    "    varlinks[key] = ['https://meps.ahrq.gov/mepsweb/data_stats/download_data_files_codebook.jsp?PUFId='+ id \n",
    "                     + '&varName=' + word for word in obvCBs[f'cb_{i}']['Name'][:-2]]\n"
   ]
  },
  {
   "cell_type": "code",
   "execution_count": 272,
   "id": "aea2467e-a831-4cee-b21d-6ffb54f75d9b",
   "metadata": {},
   "outputs": [
    {
     "data": {
      "application/vnd.jupyter.widget-view+json": {
       "model_id": "71998ec0838345a5b68d7f12cfe6a489",
       "version_major": 2,
       "version_minor": 0
      },
      "text/plain": [
       "0it [00:00, ?it/s]"
      ]
     },
     "metadata": {},
     "output_type": "display_data"
    }
   ],
   "source": [
    "#loop over dictionary of lists to create dictionary of dictionaries of dataframes of variable values\n",
    "#altered to have a progress bar and run over one year at a time\n",
    "key = 'cb_10'\n",
    "varlinkslist = varlinks[key]\n",
    "\n",
    "dict = {}\n",
    "for i, link in tqdm(enumerate(varlinkslist, start=0)):\n",
    "    try:\n",
    "        page = pd.read_html(link)                                                      # read html tables from the page\n",
    "        table = page[1]                                                                # grab second table(should be right one)\n",
    "        k = f'var_{i}'                                                                # create dynamic key\n",
    "        dict[k] = table                                                            # store the df in the dictionary\n",
    "    except Exception as e:\n",
    "        print(f\"Error processing {link}: {e}\") "
   ]
  },
  {
   "cell_type": "code",
   "execution_count": 273,
   "id": "63bfaa18-320a-485c-a899-7b0f08433570",
   "metadata": {},
   "outputs": [
    {
     "data": {
      "text/plain": [
       "71"
      ]
     },
     "execution_count": 273,
     "metadata": {},
     "output_type": "execute_result"
    }
   ],
   "source": [
    "len(varlinks['cb_10'])"
   ]
  },
  {
   "cell_type": "code",
   "execution_count": 274,
   "id": "df08a455-88d4-466a-8625-a766d7d9c55d",
   "metadata": {},
   "outputs": [],
   "source": [
    "#code to pickle results of above loop so i never have to run it again\n",
    "\n",
    "a = dict\n",
    "\n",
    "with open('../data/erv_cbpickles/cb_10.pickle', 'wb') as handle:\n",
    "    pickle.dump(a, handle, protocol=pickle.HIGHEST_PROTOCOL)"
   ]
  },
  {
   "cell_type": "code",
   "execution_count": 343,
   "id": "d065f5f9-1f71-4143-90cc-2dabe9099486",
   "metadata": {},
   "outputs": [],
   "source": [
    "#export variables and descriptions to csvs\n",
    "for cb in ervCBs:\n",
    "    ervCBs[cb].iloc[:, [0, 3]].to_csv(f'../data/ervCBcsvs/{cb}.csv', index= False)"
   ]
  },
  {
   "cell_type": "markdown",
   "id": "110b3793-138f-43bf-b622-c75d31abaaab",
   "metadata": {},
   "source": [
    "### *Office-Based Medical Provider Visits*"
   ]
  },
  {
   "cell_type": "code",
   "execution_count": 280,
   "id": "b78ce41b-b47e-4b39-bfcf-75b76966e42b",
   "metadata": {},
   "outputs": [
    {
     "name": "stdout",
     "output_type": "stream",
     "text": [
      "['download_data_files_detail.jsp?cboPufNumber=HC-229G', 'download_data_files_detail.jsp?cboPufNumber=HC-220G', 'download_data_files_detail.jsp?cboPufNumber=HC-213G', 'download_data_files_detail.jsp?cboPufNumber=HC-206G', 'download_data_files_detail.jsp?cboPufNumber=HC-197G', 'download_data_files_detail.jsp?cboPufNumber=HC-188G', 'download_data_files_detail.jsp?cboPufNumber=HC-178G', 'download_data_files_detail.jsp?cboPufNumber=HC-168G', 'download_data_files_detail.jsp?cboPufNumber=HC-160G', 'download_data_files_detail.jsp?cboPufNumber=HC-152G']\n"
     ]
    }
   ],
   "source": [
    "URL = 'https://meps.ahrq.gov/mepsweb/data_stats/download_data_files_results.jsp?cboDataYear=All&cboDataTypeY=2%2CHousehold+Event+File&buttonYearandDataType=Search&cboPufNumber=All&SearchTitle=Office-Based+Medical+Provider+Visits'\n",
    "PUFids = ['HC-229G', 'HC-220G', 'HC-213G', 'HC-206G', 'HC-197G', 'HC-188G', 'HC-178G', 'HC-168G', 'HC-160G', 'HC-152G']\n",
    "\n",
    "obv = getPUFLinks(URL)\n",
    "print(obv)"
   ]
  },
  {
   "cell_type": "code",
   "execution_count": 281,
   "id": "02f54238-2563-4159-b439-6ef20780c32b",
   "metadata": {},
   "outputs": [
    {
     "name": "stdout",
     "output_type": "stream",
     "text": [
      "['https://meps.ahrq.gov/mepsweb/data_stats/download_data_files_detail.jsp?cboPufNumber=HC-229G', 'https://meps.ahrq.gov/mepsweb/data_stats/download_data_files_detail.jsp?cboPufNumber=HC-220G', 'https://meps.ahrq.gov/mepsweb/data_stats/download_data_files_detail.jsp?cboPufNumber=HC-213G', 'https://meps.ahrq.gov/mepsweb/data_stats/download_data_files_detail.jsp?cboPufNumber=HC-206G', 'https://meps.ahrq.gov/mepsweb/data_stats/download_data_files_detail.jsp?cboPufNumber=HC-197G', 'https://meps.ahrq.gov/mepsweb/data_stats/download_data_files_detail.jsp?cboPufNumber=HC-188G', 'https://meps.ahrq.gov/mepsweb/data_stats/download_data_files_detail.jsp?cboPufNumber=HC-178G', 'https://meps.ahrq.gov/mepsweb/data_stats/download_data_files_detail.jsp?cboPufNumber=HC-168G', 'https://meps.ahrq.gov/mepsweb/data_stats/download_data_files_detail.jsp?cboPufNumber=HC-160G', 'https://meps.ahrq.gov/mepsweb/data_stats/download_data_files_detail.jsp?cboPufNumber=HC-152G']\n"
     ]
    }
   ],
   "source": [
    "#create list of links to get pages with cb html links\n",
    "\n",
    "PUFlinks = (['https://meps.ahrq.gov/mepsweb/data_stats/' + word for word in obv])\n",
    "print(PUFlinks)"
   ]
  },
  {
   "cell_type": "code",
   "execution_count": 282,
   "id": "7f23894f-a34d-45fd-98c3-c3367b32e7e9",
   "metadata": {},
   "outputs": [
    {
     "name": "stdout",
     "output_type": "stream",
     "text": [
      "['https://meps.ahrq.gov/mepsweb/data_stats/download_data_files_codebook.jsp?PUFId=H229G', 'https://meps.ahrq.gov/mepsweb/data_stats/download_data_files_codebook.jsp?PUFId=H220G', 'https://meps.ahrq.gov/mepsweb/data_stats/download_data_files_codebook.jsp?PUFId=H213G', 'https://meps.ahrq.gov/mepsweb/data_stats/download_data_files_codebook.jsp?PUFId=H206G', 'https://meps.ahrq.gov/mepsweb/data_stats/download_data_files_codebook.jsp?PUFId=H197G', 'https://meps.ahrq.gov/mepsweb/data_stats/download_data_files_codebook.jsp?PUFId=H188G', 'https://meps.ahrq.gov/mepsweb/data_stats/download_data_files_codebook.jsp?PUFId=H178G', 'https://meps.ahrq.gov/mepsweb/data_stats/download_data_files_codebook.jsp?PUFId=H168G', 'https://meps.ahrq.gov/mepsweb/data_stats/download_data_files_codebook.jsp?PUFId=H160G', 'https://meps.ahrq.gov/mepsweb/data_stats/download_data_files_codebook.jsp?PUFId=H152G']\n"
     ]
    }
   ],
   "source": [
    "#get the links to the codebook pages and turn into working links\n",
    "cblinks = []\n",
    "\n",
    "for link in PUFlinks:\n",
    "    cbl = getCBLinks(link)\n",
    "    cblinks.extend('https://meps.ahrq.gov/mepsweb/data_stats/' + word for word in cbl)\n",
    "print(cblinks)"
   ]
  },
  {
   "cell_type": "code",
   "execution_count": 283,
   "id": "dcc453c0-ffad-4dde-9d79-11428ac6da6d",
   "metadata": {},
   "outputs": [],
   "source": [
    "#loop over cblinks to get html tables, as a dictionary of dataframes\n",
    "obvCBs = {}\n",
    "\n",
    "for i, link in enumerate(cblinks, start=1):\n",
    "    try:\n",
    "        page = pd.read_html(link)                                                      # read html tables from the page\n",
    "        table = page[1]                                                                # grab second table(should be right one)\n",
    "        key = f'cb_{i}'                                                                # create dynamic key\n",
    "        obvCBs[key] = table                                                            # store the df in the dictionary\n",
    "    except Exception as e:\n",
    "        print(f\"Error processing {link}: {e}\")"
   ]
  },
  {
   "cell_type": "code",
   "execution_count": 284,
   "id": "80fc4fd5-ee6e-459b-8ef1-accef0f1aa9e",
   "metadata": {},
   "outputs": [
    {
     "data": {
      "text/plain": [
       "0           DOCATLOC\n",
       "1        DRSPLTY_M18\n",
       "2               DUID\n",
       "3           DUPERSID\n",
       "4            EKG_M18\n",
       "5            EVENTRN\n",
       "6            EVNTIDX\n",
       "7            FFBEF21\n",
       "8            FFEEIDX\n",
       "9           FFOBTYPE\n",
       "10           FFTOT22\n",
       "11           IMPFLAG\n",
       "12       LABTEST_M18\n",
       "13        MAMMOG_M18\n",
       "14          MEDPRESC\n",
       "15      MEDPTYPE_M18\n",
       "16           MPCDATA\n",
       "17           MPCELIG\n",
       "18           MRI_M18\n",
       "19          OBDATEMM\n",
       "20          OBDATEYR\n",
       "21           OBMD21X\n",
       "22           OBMR21X\n",
       "23           OBOF21X\n",
       "24           OBOT21X\n",
       "25           OBPV21X\n",
       "26           OBSF21X\n",
       "27           OBSL21X\n",
       "28           OBTC21X\n",
       "29           OBTR21X\n",
       "30           OBVA21X\n",
       "31           OBWC21X\n",
       "32           OBXP21X\n",
       "33             PANEL\n",
       "34          PERWT21F\n",
       "35               PID\n",
       "36        RCVVAC_M18\n",
       "37        SEEDOC_M18\n",
       "38      SONOGRAM_M18\n",
       "39          SURGPROC\n",
       "40    TELEHEALTHFLAG\n",
       "41            VARPSU\n",
       "42            VARSTR\n",
       "43         VISITTYPE\n",
       "44          VSTCTGRY\n",
       "45      VSTRELCN_M18\n",
       "46         XRAYS_M18\n",
       "Name: Name, dtype: object"
      ]
     },
     "execution_count": 284,
     "metadata": {},
     "output_type": "execute_result"
    }
   ],
   "source": [
    "#check dictionary contents\n",
    "obvCBs['cb_1']['Name'][:-2]"
   ]
  },
  {
   "cell_type": "code",
   "execution_count": 285,
   "id": "932a4cae-0f08-4a9a-b338-15b84488577f",
   "metadata": {},
   "outputs": [],
   "source": [
    "#create dictionary of lists of links from name columns of each variable df\n",
    "\n",
    "PUFids_vars = ['H229G', 'H220G', 'H213G', 'H206G', 'H197G', 'H188G', 'H178G', 'H168G', 'H160G', 'H152G']\n",
    "varlinks = {}\n",
    "\n",
    "for i, id in enumerate(PUFids_vars, start = 1):\n",
    "    key = f'cb_{i}'\n",
    "    varlinks[key] = ['https://meps.ahrq.gov/mepsweb/data_stats/download_data_files_codebook.jsp?PUFId='+ id \n",
    "                     + '&varName=' + word for word in obvCBs[f'cb_{i}']['Name'][:-2]]\n"
   ]
  },
  {
   "cell_type": "code",
   "execution_count": 314,
   "id": "83390f83-462a-4391-ac30-3ded0973c8a2",
   "metadata": {},
   "outputs": [
    {
     "data": {
      "application/vnd.jupyter.widget-view+json": {
       "model_id": "acfa92bda76140ae80278050d6e74e70",
       "version_major": 2,
       "version_minor": 0
      },
      "text/plain": [
       "0it [00:00, ?it/s]"
      ]
     },
     "metadata": {},
     "output_type": "display_data"
    }
   ],
   "source": [
    "#loop over dictionary of lists to create dictionary of dictionaries of dataframes of variable values\n",
    "#altered to have a progress bar and run over one year at a time\n",
    "key = 'cb_10'\n",
    "varlinkslist = varlinks[key]\n",
    "\n",
    "dict = {}\n",
    "for i, link in tqdm(enumerate(varlinkslist, start=0)):\n",
    "    try:\n",
    "        page = pd.read_html(link)                                                      # read html tables from the page\n",
    "        table = page[1]                                                                # grab second table(should be right one)\n",
    "        k = f'var_{i}'                                                                # create dynamic key\n",
    "        dict[k] = table                                                            # store the df in the dictionary\n",
    "    except Exception as e:\n",
    "        print(f\"Error processing {link}: {e}\") "
   ]
  },
  {
   "cell_type": "code",
   "execution_count": 315,
   "id": "cdb2f8e0-b7bc-4310-af7b-637ebc06223e",
   "metadata": {},
   "outputs": [
    {
     "data": {
      "text/plain": [
       "75"
      ]
     },
     "execution_count": 315,
     "metadata": {},
     "output_type": "execute_result"
    }
   ],
   "source": [
    "len(varlinks['cb_10'])"
   ]
  },
  {
   "cell_type": "code",
   "execution_count": 316,
   "id": "1ac38eac-9b85-45d9-a934-df2489a8c4a3",
   "metadata": {},
   "outputs": [],
   "source": [
    "#code to pickle results of above loop so i never have to run it again\n",
    "\n",
    "a = dict\n",
    "\n",
    "with open('../data/obv_cbpickles/cb_10.pickle', 'wb') as handle:\n",
    "    pickle.dump(a, handle, protocol=pickle.HIGHEST_PROTOCOL)"
   ]
  },
  {
   "cell_type": "code",
   "execution_count": 344,
   "id": "31434209-9cd2-46d2-affb-f1f6dcea9500",
   "metadata": {},
   "outputs": [],
   "source": [
    "#export variables and descriptions to csvs\n",
    "for cb in obvCBs:\n",
    "    obvCBs[cb].iloc[:, [0, 3]].to_csv(f'../data/obvCBcsvs/{cb}.csv', index= False)"
   ]
  },
  {
   "cell_type": "code",
   "execution_count": 340,
   "id": "018affae-a3ad-4d1f-9312-0e0f8e4c4da3",
   "metadata": {},
   "outputs": [
    {
     "data": {
      "text/html": [
       "<div>\n",
       "<style scoped>\n",
       "    .dataframe tbody tr th:only-of-type {\n",
       "        vertical-align: middle;\n",
       "    }\n",
       "\n",
       "    .dataframe tbody tr th {\n",
       "        vertical-align: top;\n",
       "    }\n",
       "\n",
       "    .dataframe thead th {\n",
       "        text-align: right;\n",
       "    }\n",
       "</style>\n",
       "<table border=\"1\" class=\"dataframe\">\n",
       "  <thead>\n",
       "    <tr style=\"text-align: right;\">\n",
       "      <th></th>\n",
       "      <th>Name</th>\n",
       "      <th>Description</th>\n",
       "    </tr>\n",
       "  </thead>\n",
       "  <tbody>\n",
       "    <tr>\n",
       "      <th>0</th>\n",
       "      <td>ANESTH</td>\n",
       "      <td>THIS VISIT DID P RECEIVE ANESTHESIA</td>\n",
       "    </tr>\n",
       "    <tr>\n",
       "      <th>1</th>\n",
       "      <td>CHEMOTH</td>\n",
       "      <td>THIS VISIT DID P HAVE CHEMOTHERAPY</td>\n",
       "    </tr>\n",
       "    <tr>\n",
       "      <th>2</th>\n",
       "      <td>DOCATLOC</td>\n",
       "      <td>ANY MD WORK AT LOCATION WHERE P SAW PROV</td>\n",
       "    </tr>\n",
       "    <tr>\n",
       "      <th>3</th>\n",
       "      <td>DRSPLTY</td>\n",
       "      <td>MVIS DOCTOR'S SPECIALTY</td>\n",
       "    </tr>\n",
       "    <tr>\n",
       "      <th>4</th>\n",
       "      <td>DRUGTRT</td>\n",
       "      <td>THIS VIS DID P HAVE TRT FOR DRUG/ALCOHOL</td>\n",
       "    </tr>\n",
       "    <tr>\n",
       "      <th>...</th>\n",
       "      <td>...</td>\n",
       "      <td>...</td>\n",
       "    </tr>\n",
       "    <tr>\n",
       "      <th>72</th>\n",
       "      <td>VSTCTGRY</td>\n",
       "      <td>BEST CATEGORY FOR CARE P RECV ON VST DT</td>\n",
       "    </tr>\n",
       "    <tr>\n",
       "      <th>73</th>\n",
       "      <td>VSTRELCN</td>\n",
       "      <td>THIS VST/PHONE CALL RELATED TO SPEC COND</td>\n",
       "    </tr>\n",
       "    <tr>\n",
       "      <th>74</th>\n",
       "      <td>XRAYS</td>\n",
       "      <td>THIS VISIT DID P HAVE X-RAYS</td>\n",
       "    </tr>\n",
       "    <tr>\n",
       "      <th>75</th>\n",
       "      <td>NaN</td>\n",
       "      <td>NaN</td>\n",
       "    </tr>\n",
       "    <tr>\n",
       "      <th>76</th>\n",
       "      <td>The components in this navigation bar are full...</td>\n",
       "      <td>NaN</td>\n",
       "    </tr>\n",
       "  </tbody>\n",
       "</table>\n",
       "<p>77 rows × 2 columns</p>\n",
       "</div>"
      ],
      "text/plain": [
       "                                                 Name  \\\n",
       "0                                              ANESTH   \n",
       "1                                             CHEMOTH   \n",
       "2                                            DOCATLOC   \n",
       "3                                             DRSPLTY   \n",
       "4                                             DRUGTRT   \n",
       "..                                                ...   \n",
       "72                                           VSTCTGRY   \n",
       "73                                           VSTRELCN   \n",
       "74                                              XRAYS   \n",
       "75                                                NaN   \n",
       "76  The components in this navigation bar are full...   \n",
       "\n",
       "                                 Description  \n",
       "0        THIS VISIT DID P RECEIVE ANESTHESIA  \n",
       "1         THIS VISIT DID P HAVE CHEMOTHERAPY  \n",
       "2   ANY MD WORK AT LOCATION WHERE P SAW PROV  \n",
       "3                    MVIS DOCTOR'S SPECIALTY  \n",
       "4   THIS VIS DID P HAVE TRT FOR DRUG/ALCOHOL  \n",
       "..                                       ...  \n",
       "72   BEST CATEGORY FOR CARE P RECV ON VST DT  \n",
       "73  THIS VST/PHONE CALL RELATED TO SPEC COND  \n",
       "74              THIS VISIT DID P HAVE X-RAYS  \n",
       "75                                       NaN  \n",
       "76                                       NaN  \n",
       "\n",
       "[77 rows x 2 columns]"
      ]
     },
     "execution_count": 340,
     "metadata": {},
     "output_type": "execute_result"
    }
   ],
   "source": [
    "obvCBs[cb].iloc[:, [0, 3]]"
   ]
  },
  {
   "cell_type": "code",
   "execution_count": null,
   "id": "0131b187-ed8d-401e-991b-a1f8394772e7",
   "metadata": {},
   "outputs": [],
   "source": []
  }
 ],
 "metadata": {
  "kernelspec": {
   "display_name": "Python 3 (ipykernel)",
   "language": "python",
   "name": "python3"
  },
  "language_info": {
   "codemirror_mode": {
    "name": "ipython",
    "version": 3
   },
   "file_extension": ".py",
   "mimetype": "text/x-python",
   "name": "python",
   "nbconvert_exporter": "python",
   "pygments_lexer": "ipython3",
   "version": "3.11.8"
  }
 },
 "nbformat": 4,
 "nbformat_minor": 5
}
